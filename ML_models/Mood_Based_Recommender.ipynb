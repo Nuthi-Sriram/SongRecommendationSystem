{
  "nbformat": 4,
  "nbformat_minor": 0,
  "metadata": {
    "colab": {
      "name": "Mood Based Recommender.ipynb",
      "provenance": [],
      "collapsed_sections": [],
      "toc_visible": true
    },
    "kernelspec": {
      "display_name": "Python 3",
      "name": "python3"
    }
  },
  "cells": [
    {
      "cell_type": "markdown",
      "metadata": {
        "id": "q1SGzf3Dlfy1"
      },
      "source": [
        "### Downloading the Dataset"
      ]
    },
    {
      "cell_type": "code",
      "metadata": {
        "colab": {
          "base_uri": "https://localhost:8080/"
        },
        "id": "pwFyHj-lrWQd",
        "outputId": "599db664-9df0-4428-e44a-f91be1636653"
      },
      "source": [
        "!git clone https://github.com/kaazima/Dataset.git"
      ],
      "execution_count": null,
      "outputs": [
        {
          "output_type": "stream",
          "text": [
            "Cloning into 'Dataset'...\n",
            "remote: Enumerating objects: 10942, done.\u001b[K\n",
            "remote: Counting objects: 100% (2/2), done.\u001b[K\n",
            "remote: Compressing objects: 100% (2/2), done.\u001b[K\n",
            "remote: Total 10942 (delta 0), reused 0 (delta 0), pack-reused 10940\u001b[K\n",
            "Receiving objects: 100% (10942/10942), 1.84 GiB | 36.28 MiB/s, done.\n",
            "Resolving deltas: 100% (510/510), done.\n",
            "Checking out files: 100% (10001/10001), done.\n"
          ],
          "name": "stdout"
        }
      ]
    },
    {
      "cell_type": "markdown",
      "metadata": {
        "id": "Z-9J3kdRlkHv"
      },
      "source": [
        "### Rename the directories & their paths"
      ]
    },
    {
      "cell_type": "code",
      "metadata": {
        "id": "EXc6eGrotFgk"
      },
      "source": [
        "import os, sys\n",
        "\n",
        "dir_tree = '/content/Dataset/MillionSongSubset'\n",
        "\n",
        "for dir_path, dir_names, file_names in os.walk(dir_tree):\n",
        "    for file_name in file_names:\n",
        "        try:\n",
        "            os.rename(os.path.join(dir_path, file_name), os.path.join(dir_tree, file_name))\n",
        "        except OSError:\n",
        "            print (\"Could not move %s \" % os.join(dir_path, file_name))"
      ],
      "execution_count": null,
      "outputs": []
    },
    {
      "cell_type": "markdown",
      "metadata": {
        "id": "yJxMsBkAnUah"
      },
      "source": [
        "### Compiling a Title-Artist table"
      ]
    },
    {
      "cell_type": "code",
      "metadata": {
        "id": "QlYiqVa6tQ0N"
      },
      "source": [
        "import pandas as pd\n",
        "\n",
        "def make_artist_table(base):\n",
        "\n",
        "# Get file names\n",
        "\n",
        "    files = [os.path.join(base,fn) for fn in os.listdir(base) if fn.endswith('.h5')]\n",
        "    data = {'file':[], 'artist':[], 'title':[]}\n",
        "\n",
        "    # Add artist and title data to dictionary\n",
        "    for f in files:\n",
        "        store = pd.HDFStore(f)\n",
        "        title = store.root.metadata.songs.cols.title[0]\n",
        "        artist = store.root.metadata.songs.cols.artist_name[0]\n",
        "        data['file'].append(os.path.basename(f))\n",
        "        data['title'].append(title.decode(\"utf-8\"))\n",
        "        data['artist'].append(artist.decode(\"utf-8\"))\n",
        "        store.close()\n",
        "    \n",
        "    # Convert dictionary to pandas DataFrame\n",
        "    df = pd.DataFrame.from_dict(data, orient='columns')\n",
        "    df = df[['file', 'artist', 'title']]\n",
        "    return df"
      ],
      "execution_count": null,
      "outputs": []
    },
    {
      "cell_type": "code",
      "metadata": {
        "colab": {
          "base_uri": "https://localhost:8080/",
          "height": 204
        },
        "id": "eu0MagtTtbID",
        "outputId": "a6ed7ee2-cd52-4f8c-b066-648b046f4942"
      },
      "source": [
        "base = '/content/Dataset/MillionSongSubset'\n",
        "df = make_artist_table(base)\n",
        "df.tail()"
      ],
      "execution_count": null,
      "outputs": [
        {
          "output_type": "execute_result",
          "data": {
            "text/html": [
              "<div>\n",
              "<style scoped>\n",
              "    .dataframe tbody tr th:only-of-type {\n",
              "        vertical-align: middle;\n",
              "    }\n",
              "\n",
              "    .dataframe tbody tr th {\n",
              "        vertical-align: top;\n",
              "    }\n",
              "\n",
              "    .dataframe thead th {\n",
              "        text-align: right;\n",
              "    }\n",
              "</style>\n",
              "<table border=\"1\" class=\"dataframe\">\n",
              "  <thead>\n",
              "    <tr style=\"text-align: right;\">\n",
              "      <th></th>\n",
              "      <th>file</th>\n",
              "      <th>artist</th>\n",
              "      <th>title</th>\n",
              "    </tr>\n",
              "  </thead>\n",
              "  <tbody>\n",
              "    <tr>\n",
              "      <th>9995</th>\n",
              "      <td>TRADFXD128F424694C.h5</td>\n",
              "      <td>Mando Diao</td>\n",
              "      <td>Misty Mountains</td>\n",
              "    </tr>\n",
              "    <tr>\n",
              "      <th>9996</th>\n",
              "      <td>TRBEDRW128F425F424.h5</td>\n",
              "      <td>Savoy Brown</td>\n",
              "      <td>All Burned Out</td>\n",
              "    </tr>\n",
              "    <tr>\n",
              "      <th>9997</th>\n",
              "      <td>TRBCURH12903CAD622.h5</td>\n",
              "      <td>Percy Faith</td>\n",
              "      <td>The Song Is You</td>\n",
              "    </tr>\n",
              "    <tr>\n",
              "      <th>9998</th>\n",
              "      <td>TRAIPZK12903CE9F24.h5</td>\n",
              "      <td>Cauda Pavonis</td>\n",
              "      <td>Juggernaut</td>\n",
              "    </tr>\n",
              "    <tr>\n",
              "      <th>9999</th>\n",
              "      <td>TRAKILC128F933EC35.h5</td>\n",
              "      <td>Johnny Otis</td>\n",
              "      <td>Lovers Lane Boogie</td>\n",
              "    </tr>\n",
              "  </tbody>\n",
              "</table>\n",
              "</div>"
            ],
            "text/plain": [
              "                       file         artist               title\n",
              "9995  TRADFXD128F424694C.h5     Mando Diao     Misty Mountains\n",
              "9996  TRBEDRW128F425F424.h5    Savoy Brown      All Burned Out\n",
              "9997  TRBCURH12903CAD622.h5    Percy Faith     The Song Is You\n",
              "9998  TRAIPZK12903CE9F24.h5  Cauda Pavonis          Juggernaut\n",
              "9999  TRAKILC128F933EC35.h5    Johnny Otis  Lovers Lane Boogie"
            ]
          },
          "metadata": {
            "tags": []
          },
          "execution_count": 7
        }
      ]
    },
    {
      "cell_type": "markdown",
      "metadata": {
        "id": "fEqETcodnfz9"
      },
      "source": [
        "### Downloading Lyrics"
      ]
    },
    {
      "cell_type": "code",
      "metadata": {
        "colab": {
          "base_uri": "https://localhost:8080/",
          "height": 204
        },
        "id": "Hxqvd2cdt6Fl",
        "outputId": "de1b44a2-21d1-4f2b-c97d-5074a5154ed9"
      },
      "source": [
        "df['lyrics'] = pd.Series('', index=df.index)\n",
        "df.tail()"
      ],
      "execution_count": null,
      "outputs": [
        {
          "output_type": "execute_result",
          "data": {
            "text/html": [
              "<div>\n",
              "<style scoped>\n",
              "    .dataframe tbody tr th:only-of-type {\n",
              "        vertical-align: middle;\n",
              "    }\n",
              "\n",
              "    .dataframe tbody tr th {\n",
              "        vertical-align: top;\n",
              "    }\n",
              "\n",
              "    .dataframe thead th {\n",
              "        text-align: right;\n",
              "    }\n",
              "</style>\n",
              "<table border=\"1\" class=\"dataframe\">\n",
              "  <thead>\n",
              "    <tr style=\"text-align: right;\">\n",
              "      <th></th>\n",
              "      <th>file</th>\n",
              "      <th>artist</th>\n",
              "      <th>title</th>\n",
              "      <th>lyrics</th>\n",
              "    </tr>\n",
              "  </thead>\n",
              "  <tbody>\n",
              "    <tr>\n",
              "      <th>9995</th>\n",
              "      <td>TRADFXD128F424694C.h5</td>\n",
              "      <td>Mando Diao</td>\n",
              "      <td>Misty Mountains</td>\n",
              "      <td></td>\n",
              "    </tr>\n",
              "    <tr>\n",
              "      <th>9996</th>\n",
              "      <td>TRBEDRW128F425F424.h5</td>\n",
              "      <td>Savoy Brown</td>\n",
              "      <td>All Burned Out</td>\n",
              "      <td></td>\n",
              "    </tr>\n",
              "    <tr>\n",
              "      <th>9997</th>\n",
              "      <td>TRBCURH12903CAD622.h5</td>\n",
              "      <td>Percy Faith</td>\n",
              "      <td>The Song Is You</td>\n",
              "      <td></td>\n",
              "    </tr>\n",
              "    <tr>\n",
              "      <th>9998</th>\n",
              "      <td>TRAIPZK12903CE9F24.h5</td>\n",
              "      <td>Cauda Pavonis</td>\n",
              "      <td>Juggernaut</td>\n",
              "      <td></td>\n",
              "    </tr>\n",
              "    <tr>\n",
              "      <th>9999</th>\n",
              "      <td>TRAKILC128F933EC35.h5</td>\n",
              "      <td>Johnny Otis</td>\n",
              "      <td>Lovers Lane Boogie</td>\n",
              "      <td></td>\n",
              "    </tr>\n",
              "  </tbody>\n",
              "</table>\n",
              "</div>"
            ],
            "text/plain": [
              "                       file         artist               title lyrics\n",
              "9995  TRADFXD128F424694C.h5     Mando Diao     Misty Mountains       \n",
              "9996  TRBEDRW128F425F424.h5    Savoy Brown      All Burned Out       \n",
              "9997  TRBCURH12903CAD622.h5    Percy Faith     The Song Is You       \n",
              "9998  TRAIPZK12903CE9F24.h5  Cauda Pavonis          Juggernaut       \n",
              "9999  TRAKILC128F933EC35.h5    Johnny Otis  Lovers Lane Boogie       "
            ]
          },
          "metadata": {
            "tags": []
          },
          "execution_count": 8
        }
      ]
    },
    {
      "cell_type": "code",
      "metadata": {
        "id": "EcxxWtRWRnUr"
      },
      "source": [
        "import urllib\n",
        "import bs4\n",
        "from bs4 import BeautifulSoup, NavigableString\n",
        "          \n",
        "def songlyrics(artist, title):\n",
        "    artist = urllib.parse.quote(artist.lower().replace(' ','_'))\n",
        "    title = urllib.parse.quote(title.lower().replace(' ','_'))\n",
        "    try:\n",
        "        lyrics = urllib.request.urlopen('https://www.lyricsmania.com/%s_lyrics_%s.html' % (title,artist))\n",
        "    except:\n",
        "        return ''\n",
        "    text = lyrics.read()\n",
        "    soup = bs4.BeautifulSoup(text)\n",
        "    if not soup.find(class_ = 'lyrics-body'):\n",
        "        return ''\n",
        "    lyrics = [x.strip() if isinstance(x, NavigableString) else x.text.strip() for x in soup.find(class_ = 'lyrics-body').contents[2:]]\n",
        "    if not lyrics:\n",
        "        return ''\n",
        "    string='\\n'.join(lyrics)\n",
        "    return string"
      ],
      "execution_count": null,
      "outputs": []
    },
    {
      "cell_type": "code",
      "metadata": {
        "colab": {
          "base_uri": "https://localhost:8080/"
        },
        "id": "JeudrKLeEttN",
        "outputId": "8294a7df-b3cd-428a-cb96-319a47fa4d18"
      },
      "source": [
        "lyr = songlyrics('Mastodon','Deep Sea Creature')\n",
        "print(lyr)"
      ],
      "execution_count": null,
      "outputs": [
        {
          "output_type": "stream",
          "text": [
            "Knowing right\n",
            "\n",
            "Learning wrong\n",
            "\n",
            "What you're feeling is pressure\n",
            "\n",
            "Pulsate new blood\n",
            "\n",
            "I've seen things you've heard never before\n",
            "\n",
            "Bones aged in dust\n",
            "\n",
            "Buy your bite take the body\n",
            "\n",
            "Calm\n",
            "\n",
            "Shutting down\n",
            "\n",
            "You built me\n",
            "\n",
            "I knew it\n",
            "\n",
            "I'll never lie liar\n",
            "\n",
            "You fed me\n",
            "\n",
            "I chewed it\n",
            "\n",
            "I'll never lie liar\n",
            "\n",
            "I follow you covering me\n",
            "\n",
            "Spirits in pieces\n",
            "\n",
            "Crumbled and burnt\n"
          ],
          "name": "stdout"
        }
      ]
    },
    {
      "cell_type": "markdown",
      "metadata": {
        "id": "A1wZI5qPnuxy"
      },
      "source": [
        "### Adding lyrics to the Dataframe"
      ]
    },
    {
      "cell_type": "code",
      "metadata": {
        "colab": {
          "base_uri": "https://localhost:8080/"
        },
        "id": "iBBSB8BoxF5P",
        "outputId": "1056372b-a0ed-44d2-d8a3-6ac0b0ba53a7"
      },
      "source": [
        "!pip install pyprind"
      ],
      "execution_count": null,
      "outputs": [
        {
          "output_type": "stream",
          "text": [
            "Collecting pyprind\n",
            "  Downloading https://files.pythonhosted.org/packages/1e/30/e76fb0c45da8aef49ea8d2a90d4e7a6877b45894c25f12fb961f009a891e/PyPrind-2.11.2-py3-none-any.whl\n",
            "Installing collected packages: pyprind\n",
            "Successfully installed pyprind-2.11.2\n"
          ],
          "name": "stdout"
        }
      ]
    },
    {
      "cell_type": "code",
      "metadata": {
        "colab": {
          "base_uri": "https://localhost:8080/"
        },
        "id": "IwFlMmOXmrp0",
        "outputId": "3ab0b1c8-2881-4304-d7c2-29f139d478fa"
      },
      "source": [
        "import pyprind\n",
        "\n",
        "pbar = pyprind.ProgBar(df.shape[0])\n",
        "for row_id in df.index:\n",
        "    lyr = songlyrics(df.loc[row_id]['artist'],df.loc[row_id]['title'])\n",
        "    df.loc[row_id,'lyrics'] = lyr\n",
        "    pbar.update()"
      ],
      "execution_count": null,
      "outputs": [
        {
          "output_type": "stream",
          "text": [
            "0% [##############################] 100% | ETA: 00:00:00\n",
            "Total time elapsed: 00:56:16\n"
          ],
          "name": "stderr"
        }
      ]
    },
    {
      "cell_type": "code",
      "metadata": {
        "colab": {
          "base_uri": "https://localhost:8080/",
          "height": 212
        },
        "id": "jMRRpSh2NSLp",
        "outputId": "01c08076-dcc9-4ecc-b9f3-7edd171d4912"
      },
      "source": [
        "print('downloaded Lyrics for %s songs' %sum(df.lyrics!=''))\n",
        "df.head()"
      ],
      "execution_count": null,
      "outputs": [
        {
          "output_type": "stream",
          "text": [
            "downloaded Lyrics for 91 songs\n"
          ],
          "name": "stdout"
        },
        {
          "output_type": "execute_result",
          "data": {
            "text/html": [
              "<div>\n",
              "<style scoped>\n",
              "    .dataframe tbody tr th:only-of-type {\n",
              "        vertical-align: middle;\n",
              "    }\n",
              "\n",
              "    .dataframe tbody tr th {\n",
              "        vertical-align: top;\n",
              "    }\n",
              "\n",
              "    .dataframe thead th {\n",
              "        text-align: right;\n",
              "    }\n",
              "</style>\n",
              "<table border=\"1\" class=\"dataframe\">\n",
              "  <thead>\n",
              "    <tr style=\"text-align: right;\">\n",
              "      <th></th>\n",
              "      <th>file</th>\n",
              "      <th>artist</th>\n",
              "      <th>title</th>\n",
              "      <th>lyrics</th>\n",
              "    </tr>\n",
              "  </thead>\n",
              "  <tbody>\n",
              "    <tr>\n",
              "      <th>0</th>\n",
              "      <td>TRADJKG12903CE049F.h5</td>\n",
              "      <td>Tesla</td>\n",
              "      <td>So What!</td>\n",
              "      <td>There's things that I've bought\\n\\nAnd there's...</td>\n",
              "    </tr>\n",
              "    <tr>\n",
              "      <th>1</th>\n",
              "      <td>TRBGLST128F934DAF2.h5</td>\n",
              "      <td>Yami Bolo</td>\n",
              "      <td>Put Down Your Weapons</td>\n",
              "      <td></td>\n",
              "    </tr>\n",
              "    <tr>\n",
              "      <th>2</th>\n",
              "      <td>TRAICJQ12903CF2681.h5</td>\n",
              "      <td>Dark Fortress</td>\n",
              "      <td>Ghastly Indoctrination</td>\n",
              "      <td>In mysterious ways your soul sinks down\\n\\nAs ...</td>\n",
              "    </tr>\n",
              "    <tr>\n",
              "      <th>3</th>\n",
              "      <td>TRAZNDO12903CF3CE6.h5</td>\n",
              "      <td>Lorna</td>\n",
              "      <td>He Dreams Of Spaceships</td>\n",
              "      <td></td>\n",
              "    </tr>\n",
              "    <tr>\n",
              "      <th>4</th>\n",
              "      <td>TRARYHD128F9344512.h5</td>\n",
              "      <td>Trafik</td>\n",
              "      <td>Disco Trafiko</td>\n",
              "      <td></td>\n",
              "    </tr>\n",
              "  </tbody>\n",
              "</table>\n",
              "</div>"
            ],
            "text/plain": [
              "                    file  ...                                             lyrics\n",
              "0  TRADJKG12903CE049F.h5  ...  There's things that I've bought\\n\\nAnd there's...\n",
              "1  TRBGLST128F934DAF2.h5  ...                                                   \n",
              "2  TRAICJQ12903CF2681.h5  ...  In mysterious ways your soul sinks down\\n\\nAs ...\n",
              "3  TRAZNDO12903CF3CE6.h5  ...                                                   \n",
              "4  TRARYHD128F9344512.h5  ...                                                   \n",
              "\n",
              "[5 rows x 4 columns]"
            ]
          },
          "metadata": {
            "tags": []
          },
          "execution_count": 10
        }
      ]
    },
    {
      "cell_type": "markdown",
      "metadata": {
        "id": "I6ZrmTl2oHy_"
      },
      "source": [
        "### Remove rows where lyrics are not available"
      ]
    },
    {
      "cell_type": "code",
      "metadata": {
        "colab": {
          "base_uri": "https://localhost:8080/",
          "height": 212
        },
        "id": "uJaKFW97Omoq",
        "outputId": "6938ce10-0ab6-4bef-a60e-492e7057ccc7"
      },
      "source": [
        "df = df[df.lyrics!='']\n",
        "print(\"No of songs: %s\" %sum(df.lyrics!=''))\n",
        "df.head()"
      ],
      "execution_count": null,
      "outputs": [
        {
          "output_type": "stream",
          "text": [
            "No of songs: 91\n"
          ],
          "name": "stdout"
        },
        {
          "output_type": "execute_result",
          "data": {
            "text/html": [
              "<div>\n",
              "<style scoped>\n",
              "    .dataframe tbody tr th:only-of-type {\n",
              "        vertical-align: middle;\n",
              "    }\n",
              "\n",
              "    .dataframe tbody tr th {\n",
              "        vertical-align: top;\n",
              "    }\n",
              "\n",
              "    .dataframe thead th {\n",
              "        text-align: right;\n",
              "    }\n",
              "</style>\n",
              "<table border=\"1\" class=\"dataframe\">\n",
              "  <thead>\n",
              "    <tr style=\"text-align: right;\">\n",
              "      <th></th>\n",
              "      <th>file</th>\n",
              "      <th>artist</th>\n",
              "      <th>title</th>\n",
              "      <th>lyrics</th>\n",
              "    </tr>\n",
              "  </thead>\n",
              "  <tbody>\n",
              "    <tr>\n",
              "      <th>0</th>\n",
              "      <td>TRADJKG12903CE049F.h5</td>\n",
              "      <td>Tesla</td>\n",
              "      <td>So What!</td>\n",
              "      <td>There's things that I've bought\\n\\nAnd there's...</td>\n",
              "    </tr>\n",
              "    <tr>\n",
              "      <th>2</th>\n",
              "      <td>TRAICJQ12903CF2681.h5</td>\n",
              "      <td>Dark Fortress</td>\n",
              "      <td>Ghastly Indoctrination</td>\n",
              "      <td>In mysterious ways your soul sinks down\\n\\nAs ...</td>\n",
              "    </tr>\n",
              "    <tr>\n",
              "      <th>5</th>\n",
              "      <td>TRAUZFY128F42BCE57.h5</td>\n",
              "      <td>Jason Michael Carroll</td>\n",
              "      <td>No Good In Goodbye</td>\n",
              "      <td>I knew you wouldn't answer after the things we...</td>\n",
              "    </tr>\n",
              "    <tr>\n",
              "      <th>11</th>\n",
              "      <td>TRAAVRJ128F92FF90A.h5</td>\n",
              "      <td>!!!</td>\n",
              "      <td>Myth Takes</td>\n",
              "      <td>It only takes a little bit of glamour glimmer\\...</td>\n",
              "    </tr>\n",
              "    <tr>\n",
              "      <th>12</th>\n",
              "      <td>TRAOQSA128F42AE616.h5</td>\n",
              "      <td>El Presidente</td>\n",
              "      <td>Turn This Thing Around</td>\n",
              "      <td>Turn this thing around\\n\\nTurn this thing arou...</td>\n",
              "    </tr>\n",
              "  </tbody>\n",
              "</table>\n",
              "</div>"
            ],
            "text/plain": [
              "                     file  ...                                             lyrics\n",
              "0   TRADJKG12903CE049F.h5  ...  There's things that I've bought\\n\\nAnd there's...\n",
              "2   TRAICJQ12903CF2681.h5  ...  In mysterious ways your soul sinks down\\n\\nAs ...\n",
              "5   TRAUZFY128F42BCE57.h5  ...  I knew you wouldn't answer after the things we...\n",
              "11  TRAAVRJ128F92FF90A.h5  ...  It only takes a little bit of glamour glimmer\\...\n",
              "12  TRAOQSA128F42AE616.h5  ...  Turn this thing around\\n\\nTurn this thing arou...\n",
              "\n",
              "[5 rows x 4 columns]"
            ]
          },
          "metadata": {
            "tags": []
          },
          "execution_count": 11
        }
      ]
    },
    {
      "cell_type": "markdown",
      "metadata": {
        "id": "fLr0jiMxoYgj"
      },
      "source": [
        "### Remove the songs that are not in English"
      ]
    },
    {
      "cell_type": "code",
      "metadata": {
        "colab": {
          "base_uri": "https://localhost:8080/"
        },
        "id": "YPiGlsiqOc6Z",
        "outputId": "bdb6fc70-1d33-4d01-e7a5-efe34549d598"
      },
      "source": [
        "import nltk\n",
        "nltk.download('words')\n",
        "\n",
        "def eng_ratio(text):\n",
        "    # Returns the ratio of non-English to English words from a text\n",
        "    english_vocab = set(w.lower() for w in nltk.corpus.words.words()) \n",
        "    text_vocab = set(w.lower() for w in text.split() if w.lower().isalpha()) \n",
        "    if len(text_vocab)==0:\n",
        "        # Can't find the value because of the presence of division by 0. So, returning a value 1\n",
        "        return 1\n",
        "    unusual = text_vocab.difference(english_vocab)\n",
        "    diff = len(unusual)/len(text_vocab)\n",
        "    return diff"
      ],
      "execution_count": null,
      "outputs": [
        {
          "output_type": "stream",
          "text": [
            "[nltk_data] Downloading package words to /root/nltk_data...\n",
            "[nltk_data]   Unzipping corpora/words.zip.\n"
          ],
          "name": "stdout"
        }
      ]
    },
    {
      "cell_type": "code",
      "metadata": {
        "colab": {
          "base_uri": "https://localhost:8080/"
        },
        "id": "fhb6wPnpTJPU",
        "outputId": "d0254cd8-f44f-4882-defb-0122d141ee19"
      },
      "source": [
        "text1 = 'This is a test'\n",
        "print(eng_ratio(text1))\n",
        "text2 = 'Ye jaanch karne ke liye hai'\n",
        "print(eng_ratio(text2))\n",
        "text3 = 'This is a test hai'\n",
        "print(eng_ratio(text3))\n",
        "text4 = '   \\n '\n",
        "print(eng_ratio(text4))"
      ],
      "execution_count": null,
      "outputs": [
        {
          "output_type": "stream",
          "text": [
            "0.0\n",
            "0.8333333333333334\n",
            "0.2\n",
            "1\n"
          ],
          "name": "stdout"
        }
      ]
    },
    {
      "cell_type": "markdown",
      "metadata": {
        "id": "Qp3v7iFyTyKg"
      },
      "source": [
        "text1 is 0% non-English (<50%) => It is English\n",
        "\n",
        "text2 is 83.33% non-English (>50%) => It is Non-English\n",
        "\n",
        "text3 is 20% non-English (<50%) => It is English\n",
        "\n",
        "text4 is empty. So it is assumed to be 100% non-English (>50%) => It is Non-English"
      ]
    },
    {
      "cell_type": "code",
      "metadata": {
        "colab": {
          "base_uri": "https://localhost:8080/"
        },
        "id": "EWh1pxaLOAD0",
        "outputId": "73baf9dc-684c-49f2-dbb9-24d3115356e7"
      },
      "source": [
        "pbar = pyprind.ProgBar(df.shape[0])\n",
        "\n",
        "before = df.shape[0]\n",
        "for row_id in df.index:\n",
        "    text = df.loc[row_id]['lyrics']\n",
        "    diff = eng_ratio(text)\n",
        "    if diff >= 0.5:\n",
        "        df = df[df.index != row_id]\n",
        "    pbar.update()\n",
        "after = df.shape[0]"
      ],
      "execution_count": null,
      "outputs": [
        {
          "output_type": "stream",
          "text": [
            "0% [##############################] 100% | ETA: 00:00:00\n",
            "Total time elapsed: 00:00:16\n"
          ],
          "name": "stderr"
        }
      ]
    },
    {
      "cell_type": "code",
      "metadata": {
        "colab": {
          "base_uri": "https://localhost:8080/",
          "height": 229
        },
        "id": "MwkoqXFeqIGL",
        "outputId": "f33eb66e-65d4-40cf-916c-17f35244ae97"
      },
      "source": [
        "rem = before - after\n",
        "print('%s have been removed.' %rem)\n",
        "print('%s songs remain in the dataset.' %after)\n",
        "df.head()"
      ],
      "execution_count": null,
      "outputs": [
        {
          "output_type": "stream",
          "text": [
            "15 have been removed.\n",
            "76 songs remain in the dataset.\n"
          ],
          "name": "stdout"
        },
        {
          "output_type": "execute_result",
          "data": {
            "text/html": [
              "<div>\n",
              "<style scoped>\n",
              "    .dataframe tbody tr th:only-of-type {\n",
              "        vertical-align: middle;\n",
              "    }\n",
              "\n",
              "    .dataframe tbody tr th {\n",
              "        vertical-align: top;\n",
              "    }\n",
              "\n",
              "    .dataframe thead th {\n",
              "        text-align: right;\n",
              "    }\n",
              "</style>\n",
              "<table border=\"1\" class=\"dataframe\">\n",
              "  <thead>\n",
              "    <tr style=\"text-align: right;\">\n",
              "      <th></th>\n",
              "      <th>file</th>\n",
              "      <th>artist</th>\n",
              "      <th>title</th>\n",
              "      <th>lyrics</th>\n",
              "    </tr>\n",
              "  </thead>\n",
              "  <tbody>\n",
              "    <tr>\n",
              "      <th>0</th>\n",
              "      <td>TRADJKG12903CE049F.h5</td>\n",
              "      <td>Tesla</td>\n",
              "      <td>So What!</td>\n",
              "      <td>There's things that I've bought\\n\\nAnd there's...</td>\n",
              "    </tr>\n",
              "    <tr>\n",
              "      <th>2</th>\n",
              "      <td>TRAICJQ12903CF2681.h5</td>\n",
              "      <td>Dark Fortress</td>\n",
              "      <td>Ghastly Indoctrination</td>\n",
              "      <td>In mysterious ways your soul sinks down\\n\\nAs ...</td>\n",
              "    </tr>\n",
              "    <tr>\n",
              "      <th>5</th>\n",
              "      <td>TRAUZFY128F42BCE57.h5</td>\n",
              "      <td>Jason Michael Carroll</td>\n",
              "      <td>No Good In Goodbye</td>\n",
              "      <td>I knew you wouldn't answer after the things we...</td>\n",
              "    </tr>\n",
              "    <tr>\n",
              "      <th>11</th>\n",
              "      <td>TRAAVRJ128F92FF90A.h5</td>\n",
              "      <td>!!!</td>\n",
              "      <td>Myth Takes</td>\n",
              "      <td>It only takes a little bit of glamour glimmer\\...</td>\n",
              "    </tr>\n",
              "    <tr>\n",
              "      <th>12</th>\n",
              "      <td>TRAOQSA128F42AE616.h5</td>\n",
              "      <td>El Presidente</td>\n",
              "      <td>Turn This Thing Around</td>\n",
              "      <td>Turn this thing around\\n\\nTurn this thing arou...</td>\n",
              "    </tr>\n",
              "  </tbody>\n",
              "</table>\n",
              "</div>"
            ],
            "text/plain": [
              "                     file  ...                                             lyrics\n",
              "0   TRADJKG12903CE049F.h5  ...  There's things that I've bought\\n\\nAnd there's...\n",
              "2   TRAICJQ12903CF2681.h5  ...  In mysterious ways your soul sinks down\\n\\nAs ...\n",
              "5   TRAUZFY128F42BCE57.h5  ...  I knew you wouldn't answer after the things we...\n",
              "11  TRAAVRJ128F92FF90A.h5  ...  It only takes a little bit of glamour glimmer\\...\n",
              "12  TRAOQSA128F42AE616.h5  ...  Turn this thing around\\n\\nTurn this thing arou...\n",
              "\n",
              "[5 rows x 4 columns]"
            ]
          },
          "metadata": {
            "tags": []
          },
          "execution_count": 15
        }
      ]
    },
    {
      "cell_type": "code",
      "metadata": {
        "id": "ctb-ex93vfmZ"
      },
      "source": [
        "df.to_csv('/content/df_lyr_backup.csv')"
      ],
      "execution_count": null,
      "outputs": []
    }
  ]
}