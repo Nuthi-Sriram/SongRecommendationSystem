{
  "nbformat": 4,
  "nbformat_minor": 0,
  "metadata": {
    "colab": {
      "name": "Item Similarity Based Recommender.ipynb",
      "provenance": []
    },
    "kernelspec": {
      "name": "python3",
      "display_name": "Python 3"
    }
  },
  "cells": [
    {
      "cell_type": "markdown",
      "metadata": {
        "id": "jQuZenCQjHbH"
      },
      "source": [
        "### Import Necessary Packages"
      ]
    },
    {
      "cell_type": "code",
      "metadata": {
        "id": "FIdkzA7QrWoy"
      },
      "source": [
        "import pandas as pd\n",
        "import numpy as np"
      ],
      "execution_count": null,
      "outputs": []
    },
    {
      "cell_type": "markdown",
      "metadata": {
        "id": "UldvT5FNjLMS"
      },
      "source": [
        "### Load Dataset"
      ]
    },
    {
      "cell_type": "code",
      "metadata": {
        "colab": {
          "base_uri": "https://localhost:8080/"
        },
        "id": "ej3U-RFuv_fN",
        "outputId": "0e04cdc9-539f-476a-d900-df0a51080594"
      },
      "source": [
        "from google.colab import drive\n",
        "drive.mount('/content/gdrive')"
      ],
      "execution_count": null,
      "outputs": [
        {
          "output_type": "stream",
          "text": [
            "Mounted at /content/gdrive\n"
          ],
          "name": "stdout"
        }
      ]
    },
    {
      "cell_type": "code",
      "metadata": {
        "id": "T3XUG3-yjL4g"
      },
      "source": [
        "track_metadata_df = pd.read_csv('/content/gdrive/MyDrive/Kaazima/EchonestDataset/song_data.csv')\n",
        "count_play_df =pd.read_csv('/content/gdrive/MyDrive/Kaazima/EchonestDataset/10000.txt', sep='\\t', header=None, names=['user','song','play_count'])"
      ],
      "execution_count": null,
      "outputs": []
    },
    {
      "cell_type": "markdown",
      "metadata": {
        "id": "lA69_gOxjMh7"
      },
      "source": [
        "### Song_data.csv"
      ]
    },
    {
      "cell_type": "code",
      "metadata": {
        "colab": {
          "base_uri": "https://localhost:8080/",
          "height": 229
        },
        "id": "CIb5BHlOjNF7",
        "outputId": "baed5b10-435c-4493-fcf2-4e3cda903e28"
      },
      "source": [
        "print('Number of rows:', track_metadata_df.shape[0])\n",
        "print('Number of unique songs:', len(track_metadata_df.song_id.unique()))\n",
        "display(track_metadata_df.head())"
      ],
      "execution_count": null,
      "outputs": [
        {
          "output_type": "stream",
          "text": [
            "Number of rows: 1000000\n",
            "Number of unique songs: 999056\n"
          ],
          "name": "stdout"
        },
        {
          "output_type": "display_data",
          "data": {
            "text/html": [
              "<div>\n",
              "<style scoped>\n",
              "    .dataframe tbody tr th:only-of-type {\n",
              "        vertical-align: middle;\n",
              "    }\n",
              "\n",
              "    .dataframe tbody tr th {\n",
              "        vertical-align: top;\n",
              "    }\n",
              "\n",
              "    .dataframe thead th {\n",
              "        text-align: right;\n",
              "    }\n",
              "</style>\n",
              "<table border=\"1\" class=\"dataframe\">\n",
              "  <thead>\n",
              "    <tr style=\"text-align: right;\">\n",
              "      <th></th>\n",
              "      <th>song_id</th>\n",
              "      <th>title</th>\n",
              "      <th>release</th>\n",
              "      <th>artist_name</th>\n",
              "      <th>year</th>\n",
              "    </tr>\n",
              "  </thead>\n",
              "  <tbody>\n",
              "    <tr>\n",
              "      <th>0</th>\n",
              "      <td>SOQMMHC12AB0180CB8</td>\n",
              "      <td>Silent Night</td>\n",
              "      <td>Monster Ballads X-Mas</td>\n",
              "      <td>Faster Pussy cat</td>\n",
              "      <td>2003</td>\n",
              "    </tr>\n",
              "    <tr>\n",
              "      <th>1</th>\n",
              "      <td>SOVFVAK12A8C1350D9</td>\n",
              "      <td>Tanssi vaan</td>\n",
              "      <td>Karkuteillä</td>\n",
              "      <td>Karkkiautomaatti</td>\n",
              "      <td>1995</td>\n",
              "    </tr>\n",
              "    <tr>\n",
              "      <th>2</th>\n",
              "      <td>SOGTUKN12AB017F4F1</td>\n",
              "      <td>No One Could Ever</td>\n",
              "      <td>Butter</td>\n",
              "      <td>Hudson Mohawke</td>\n",
              "      <td>2006</td>\n",
              "    </tr>\n",
              "    <tr>\n",
              "      <th>3</th>\n",
              "      <td>SOBNYVR12A8C13558C</td>\n",
              "      <td>Si Vos Querés</td>\n",
              "      <td>De Culo</td>\n",
              "      <td>Yerba Brava</td>\n",
              "      <td>2003</td>\n",
              "    </tr>\n",
              "    <tr>\n",
              "      <th>4</th>\n",
              "      <td>SOHSBXH12A8C13B0DF</td>\n",
              "      <td>Tangle Of Aspens</td>\n",
              "      <td>Rene Ablaze Presents Winter Sessions</td>\n",
              "      <td>Der Mystic</td>\n",
              "      <td>0</td>\n",
              "    </tr>\n",
              "  </tbody>\n",
              "</table>\n",
              "</div>"
            ],
            "text/plain": [
              "              song_id              title  ...       artist_name  year\n",
              "0  SOQMMHC12AB0180CB8       Silent Night  ...  Faster Pussy cat  2003\n",
              "1  SOVFVAK12A8C1350D9        Tanssi vaan  ...  Karkkiautomaatti  1995\n",
              "2  SOGTUKN12AB017F4F1  No One Could Ever  ...    Hudson Mohawke  2006\n",
              "3  SOBNYVR12A8C13558C      Si Vos Querés  ...       Yerba Brava  2003\n",
              "4  SOHSBXH12A8C13B0DF   Tangle Of Aspens  ...        Der Mystic     0\n",
              "\n",
              "[5 rows x 5 columns]"
            ]
          },
          "metadata": {
            "tags": []
          }
        }
      ]
    },
    {
      "cell_type": "markdown",
      "metadata": {
        "id": "Hkyb60jHkZrm"
      },
      "source": [
        "Clearly, we have repeated track metadata.\n",
        "\n"
      ]
    },
    {
      "cell_type": "markdown",
      "metadata": {
        "id": "oq5d2_XKjNi8"
      },
      "source": [
        "### 10000.txt"
      ]
    },
    {
      "cell_type": "code",
      "metadata": {
        "colab": {
          "base_uri": "https://localhost:8080/",
          "height": 229
        },
        "id": "uQh4qWkkjOB9",
        "outputId": "87a26578-198f-417a-a1a7-8f04fa9cf26c"
      },
      "source": [
        "print('No of rows:', count_play_df.shape[0])\n",
        "print('Number of unique users:', len(count_play_df.user.unique()))\n",
        "display(count_play_df.head())"
      ],
      "execution_count": null,
      "outputs": [
        {
          "output_type": "stream",
          "text": [
            "No of rows: 2000000\n",
            "Number of unique users: 76353\n"
          ],
          "name": "stdout"
        },
        {
          "output_type": "display_data",
          "data": {
            "text/html": [
              "<div>\n",
              "<style scoped>\n",
              "    .dataframe tbody tr th:only-of-type {\n",
              "        vertical-align: middle;\n",
              "    }\n",
              "\n",
              "    .dataframe tbody tr th {\n",
              "        vertical-align: top;\n",
              "    }\n",
              "\n",
              "    .dataframe thead th {\n",
              "        text-align: right;\n",
              "    }\n",
              "</style>\n",
              "<table border=\"1\" class=\"dataframe\">\n",
              "  <thead>\n",
              "    <tr style=\"text-align: right;\">\n",
              "      <th></th>\n",
              "      <th>user</th>\n",
              "      <th>song</th>\n",
              "      <th>play_count</th>\n",
              "    </tr>\n",
              "  </thead>\n",
              "  <tbody>\n",
              "    <tr>\n",
              "      <th>0</th>\n",
              "      <td>b80344d063b5ccb3212f76538f3d9e43d87dca9e</td>\n",
              "      <td>SOAKIMP12A8C130995</td>\n",
              "      <td>1</td>\n",
              "    </tr>\n",
              "    <tr>\n",
              "      <th>1</th>\n",
              "      <td>b80344d063b5ccb3212f76538f3d9e43d87dca9e</td>\n",
              "      <td>SOBBMDR12A8C13253B</td>\n",
              "      <td>2</td>\n",
              "    </tr>\n",
              "    <tr>\n",
              "      <th>2</th>\n",
              "      <td>b80344d063b5ccb3212f76538f3d9e43d87dca9e</td>\n",
              "      <td>SOBXHDL12A81C204C0</td>\n",
              "      <td>1</td>\n",
              "    </tr>\n",
              "    <tr>\n",
              "      <th>3</th>\n",
              "      <td>b80344d063b5ccb3212f76538f3d9e43d87dca9e</td>\n",
              "      <td>SOBYHAJ12A6701BF1D</td>\n",
              "      <td>1</td>\n",
              "    </tr>\n",
              "    <tr>\n",
              "      <th>4</th>\n",
              "      <td>b80344d063b5ccb3212f76538f3d9e43d87dca9e</td>\n",
              "      <td>SODACBL12A8C13C273</td>\n",
              "      <td>1</td>\n",
              "    </tr>\n",
              "  </tbody>\n",
              "</table>\n",
              "</div>"
            ],
            "text/plain": [
              "                                       user                song  play_count\n",
              "0  b80344d063b5ccb3212f76538f3d9e43d87dca9e  SOAKIMP12A8C130995           1\n",
              "1  b80344d063b5ccb3212f76538f3d9e43d87dca9e  SOBBMDR12A8C13253B           2\n",
              "2  b80344d063b5ccb3212f76538f3d9e43d87dca9e  SOBXHDL12A81C204C0           1\n",
              "3  b80344d063b5ccb3212f76538f3d9e43d87dca9e  SOBYHAJ12A6701BF1D           1\n",
              "4  b80344d063b5ccb3212f76538f3d9e43d87dca9e  SODACBL12A8C13C273           1"
            ]
          },
          "metadata": {
            "tags": []
          }
        }
      ]
    },
    {
      "cell_type": "markdown",
      "metadata": {
        "id": "4SRlXsZ4j-Ux"
      },
      "source": [
        "### Merge Datasets"
      ]
    },
    {
      "cell_type": "markdown",
      "metadata": {
        "id": "AXN2mg-bMwSn"
      },
      "source": [
        "Merge song_data.csv and 10000.txt based on the song_id."
      ]
    },
    {
      "cell_type": "code",
      "metadata": {
        "colab": {
          "base_uri": "https://localhost:8080/",
          "height": 195
        },
        "id": "_ZAHBgRQj-z8",
        "outputId": "3125169b-31cd-4170-e3f0-b3b012169bb2"
      },
      "source": [
        "track_metadata_df.rename(columns = {'song_id': 'song'},inplace=True)\n",
        "user_song_list_count = pd.merge(count_play_df, track_metadata_df.drop_duplicates(['song']), on='song', how ='left')\n",
        "user_song_list_count.rename(columns={'play_count':'listen_count'},inplace=True)\n",
        "display(user_song_list_count.head())"
      ],
      "execution_count": null,
      "outputs": [
        {
          "output_type": "display_data",
          "data": {
            "text/html": [
              "<div>\n",
              "<style scoped>\n",
              "    .dataframe tbody tr th:only-of-type {\n",
              "        vertical-align: middle;\n",
              "    }\n",
              "\n",
              "    .dataframe tbody tr th {\n",
              "        vertical-align: top;\n",
              "    }\n",
              "\n",
              "    .dataframe thead th {\n",
              "        text-align: right;\n",
              "    }\n",
              "</style>\n",
              "<table border=\"1\" class=\"dataframe\">\n",
              "  <thead>\n",
              "    <tr style=\"text-align: right;\">\n",
              "      <th></th>\n",
              "      <th>user</th>\n",
              "      <th>song</th>\n",
              "      <th>listen_count</th>\n",
              "      <th>title</th>\n",
              "      <th>release</th>\n",
              "      <th>artist_name</th>\n",
              "      <th>year</th>\n",
              "    </tr>\n",
              "  </thead>\n",
              "  <tbody>\n",
              "    <tr>\n",
              "      <th>0</th>\n",
              "      <td>b80344d063b5ccb3212f76538f3d9e43d87dca9e</td>\n",
              "      <td>SOAKIMP12A8C130995</td>\n",
              "      <td>1</td>\n",
              "      <td>The Cove</td>\n",
              "      <td>Thicker Than Water</td>\n",
              "      <td>Jack Johnson</td>\n",
              "      <td>0</td>\n",
              "    </tr>\n",
              "    <tr>\n",
              "      <th>1</th>\n",
              "      <td>b80344d063b5ccb3212f76538f3d9e43d87dca9e</td>\n",
              "      <td>SOBBMDR12A8C13253B</td>\n",
              "      <td>2</td>\n",
              "      <td>Entre Dos Aguas</td>\n",
              "      <td>Flamenco Para Niños</td>\n",
              "      <td>Paco De Lucia</td>\n",
              "      <td>1976</td>\n",
              "    </tr>\n",
              "    <tr>\n",
              "      <th>2</th>\n",
              "      <td>b80344d063b5ccb3212f76538f3d9e43d87dca9e</td>\n",
              "      <td>SOBXHDL12A81C204C0</td>\n",
              "      <td>1</td>\n",
              "      <td>Stronger</td>\n",
              "      <td>Graduation</td>\n",
              "      <td>Kanye West</td>\n",
              "      <td>2007</td>\n",
              "    </tr>\n",
              "    <tr>\n",
              "      <th>3</th>\n",
              "      <td>b80344d063b5ccb3212f76538f3d9e43d87dca9e</td>\n",
              "      <td>SOBYHAJ12A6701BF1D</td>\n",
              "      <td>1</td>\n",
              "      <td>Constellations</td>\n",
              "      <td>In Between Dreams</td>\n",
              "      <td>Jack Johnson</td>\n",
              "      <td>2005</td>\n",
              "    </tr>\n",
              "    <tr>\n",
              "      <th>4</th>\n",
              "      <td>b80344d063b5ccb3212f76538f3d9e43d87dca9e</td>\n",
              "      <td>SODACBL12A8C13C273</td>\n",
              "      <td>1</td>\n",
              "      <td>Learn To Fly</td>\n",
              "      <td>There Is Nothing Left To Lose</td>\n",
              "      <td>Foo Fighters</td>\n",
              "      <td>1999</td>\n",
              "    </tr>\n",
              "  </tbody>\n",
              "</table>\n",
              "</div>"
            ],
            "text/plain": [
              "                                       user  ...  year\n",
              "0  b80344d063b5ccb3212f76538f3d9e43d87dca9e  ...     0\n",
              "1  b80344d063b5ccb3212f76538f3d9e43d87dca9e  ...  1976\n",
              "2  b80344d063b5ccb3212f76538f3d9e43d87dca9e  ...  2007\n",
              "3  b80344d063b5ccb3212f76538f3d9e43d87dca9e  ...  2005\n",
              "4  b80344d063b5ccb3212f76538f3d9e43d87dca9e  ...  1999\n",
              "\n",
              "[5 rows x 7 columns]"
            ]
          },
          "metadata": {
            "tags": []
          }
        }
      ]
    },
    {
      "cell_type": "markdown",
      "metadata": {
        "id": "nqq7GWmKkIW0"
      },
      "source": [
        "### Class for Item similarity based Recommender System model"
      ]
    },
    {
      "cell_type": "code",
      "metadata": {
        "id": "TM2Gh4zLkIwk"
      },
      "source": [
        "class item_similarity_recommender_py():\n",
        "    def __init__(self):\n",
        "        self.train_data = None\n",
        "        self.user_id = None\n",
        "        self.item_id = None\n",
        "        self.cooccurence_matrix = None\n",
        "        self.songs_dict = None\n",
        "        self.rev_songs_dict = None\n",
        "        self.item_similarity_recommendations = None\n",
        "\n",
        "    # Get unique items (songs) corresponding to a given user    \n",
        "    def get_user_items(self, user):\n",
        "        user_data = self.train_data[self.train_data[self.user_id] == user]\n",
        "        user_items = list(user_data[self.item_id].unique())\n",
        "        \n",
        "        return user_items\n",
        "\n",
        "    # Get unique users for a given item (song)    \n",
        "    def get_item_users(self, item):\n",
        "        item_data = self.train_data[self.train_data[self.item_id] == item]\n",
        "        item_users = set(item_data[self.user_id].unique())\n",
        "            \n",
        "        return item_users\n",
        "\n",
        "    # Get unique items (songs) in the training data    \n",
        "    def get_all_items_train_data(self):\n",
        "        all_items = list(self.train_data[self.item_id].unique())\n",
        "            \n",
        "        return all_items\n",
        "\n",
        "    #  Construct cooccurence matrix   \n",
        "    def construct_cooccurence_matrix(self, user_songs, all_songs):\n",
        "\n",
        "        #Get users for all songs in user_songs\n",
        "        user_songs_users = []        \n",
        "        for i in range(0, len(user_songs)):\n",
        "            user_songs_users.append(self.get_item_users(user_songs[i]))\n",
        "            \n",
        "        #Initialize the item cooccurence matrix of size [len(user_songs) X len(all_songs)]\n",
        "        cooccurence_matrix = np.matrix(np.zeros(shape=(len(user_songs), len(all_songs))), float)\n",
        "           \n",
        "        #Calculate similarity between user songs and all unique songs in the training data\n",
        "        for i in range(0,len(all_songs)):\n",
        "\n",
        "            #Calculate unique listeners (users) of song (item) i\n",
        "            songs_i_data = self.train_data[self.train_data[self.item_id] == all_songs[i]]\n",
        "            users_i = set(songs_i_data[self.user_id].unique())\n",
        "            \n",
        "            for j in range(0,len(user_songs)):       \n",
        "                    \n",
        "                #Get unique listeners (users) of song (item) j\n",
        "                users_j = user_songs_users[j]\n",
        "                    \n",
        "                #Calculate intersection of listeners of songs i and j\n",
        "                users_intersection = users_i.intersection(users_j)\n",
        "                \n",
        "                #Calculate cooccurence_matrix[i,j] as Jaccard Index\n",
        "                if len(users_intersection) != 0:\n",
        "\n",
        "                    #Calculate union of listeners of songs i and j\n",
        "                    users_union = users_i.union(users_j)\n",
        "                    \n",
        "                    cooccurence_matrix[j,i] = float(len(users_intersection))/float(len(users_union))\n",
        "                else:\n",
        "                    cooccurence_matrix[j,i] = 0\n",
        "                    \n",
        "        return cooccurence_matrix\n",
        "\n",
        "    # Use the cooccurence matrix to make top recommendations    \n",
        "    def generate_top_recommendations(self, user, cooccurence_matrix, all_songs, user_songs):\n",
        "        print(\"Non zero values in cooccurence_matrix :%d\" % np.count_nonzero(cooccurence_matrix))\n",
        "        \n",
        "        #Calculate a weighted average of the scores in cooccurence matrix for all user songs.\n",
        "        user_sim_scores = cooccurence_matrix.sum(axis=0)/float(cooccurence_matrix.shape[0])\n",
        "        user_sim_scores = np.array(user_sim_scores)[0].tolist()\n",
        " \n",
        "        #Sort the indices of user_sim_scores based upon their value\n",
        "        #Also maintain the corresponding score\n",
        "        sort_index = sorted(((e,i) for i,e in enumerate(list(user_sim_scores))), reverse=True)\n",
        "    \n",
        "        #Create a dataframe from the following\n",
        "        columns = ['user_id', 'song', 'score', 'rank']\n",
        "        #index = np.arange(1) # array of numbers for the number of samples\n",
        "        df = pd.DataFrame(columns=columns)\n",
        "         \n",
        "        #Fill the dataframe with top 10 item based recommendations\n",
        "        rank = 1 \n",
        "        for i in range(0,len(sort_index)):\n",
        "            if ~np.isnan(sort_index[i][0]) and all_songs[sort_index[i][1]] not in user_songs and rank <= 10:\n",
        "                df.loc[len(df)]=[user,all_songs[sort_index[i][1]],sort_index[i][0],rank]\n",
        "                rank = rank+1\n",
        "        \n",
        "        #Handle the case where there are no recommendations\n",
        "        if df.shape[0] == 0:\n",
        "            print(\"The current user has no songs for training the item similarity based recommendation model.\")\n",
        "            return -1\n",
        "        else:\n",
        "            return df\n",
        "\n",
        "    # Create the item similarity based recommender system model        \n",
        "    def create(self, train_data, user_id, item_id):\n",
        "        self.train_data = train_data\n",
        "        self.user_id = user_id\n",
        "        self.item_id = item_id\n",
        "\n",
        "    # Use the item similarity based recommender system model to make recommendations    \n",
        "    def recommend(self, user):\n",
        "        \n",
        "        #A. Get all unique songs for this user\n",
        "        user_songs = self.get_user_items(user)    \n",
        "            \n",
        "        print(\"No. of unique songs for the user: %d\" % len(user_songs))\n",
        "        \n",
        "        #B. Get all unique items (songs) in the training data\n",
        "        all_songs = self.get_all_items_train_data()\n",
        "        \n",
        "        print(\"no. of unique songs in the training set: %d\" % len(all_songs))\n",
        "         \n",
        "        #C. Construct item cooccurence matrix of size [len(user_songs) X len(songs)]\n",
        "        cooccurence_matrix = self.construct_cooccurence_matrix(user_songs, all_songs)\n",
        "        \n",
        "        #D. Use the cooccurence matrix to make recommendations\n",
        "        df_recommendations = self.generate_top_recommendations(user, cooccurence_matrix, all_songs, user_songs)\n",
        "                \n",
        "        return df_recommendations\n",
        "\n",
        "    # Get similar items to given items    \n",
        "    def get_similar_items(self, item_list):\n",
        "        \n",
        "        user_songs = item_list\n",
        "        \n",
        "        #B. Get all unique items (songs) in the training data\n",
        "        all_songs = self.get_all_items_train_data()\n",
        "        \n",
        "        print(\"no. of unique songs in the training set: %d\" % len(all_songs))\n",
        "         \n",
        "        #C. Construct item cooccurence matrix of size [len(user_songs) X len(songs)]\n",
        "        cooccurence_matrix = self.construct_cooccurence_matrix(user_songs, all_songs)\n",
        "        \n",
        "        #D. Use the cooccurence matrix to make recommendations\n",
        "        user = \"\"\n",
        "        df_recommendations = self.generate_top_recommendations(user, cooccurence_matrix, all_songs, user_songs)\n",
        "         \n",
        "        return df_recommendations "
      ],
      "execution_count": null,
      "outputs": []
    },
    {
      "cell_type": "markdown",
      "metadata": {
        "id": "sNbTGjKb0Xit"
      },
      "source": [
        "*Note: The Jaccard coefficient measures similarity between finite sample sets, and is defined as the size of the intersection divided by the size of the union of the sample sets:*\n",
        "\n",
        "![Jaccard.jpg](data:image/jpeg;base64,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)"
      ]
    },
    {
      "cell_type": "markdown",
      "metadata": {
        "id": "Rc4uLe_01A9j"
      },
      "source": [
        "### Limit the items to the most popular 5000 songs"
      ]
    },
    {
      "cell_type": "code",
      "metadata": {
        "colab": {
          "base_uri": "https://localhost:8080/"
        },
        "id": "IYqdDlmmyzFH",
        "outputId": "12d1bc71-1b84-4081-aa74-62a400020a63"
      },
      "source": [
        "total_play_count = sum(user_song_list_count.listen_count)\n",
        "play_count = user_song_list_count[['song', 'listen_count']].groupby('song').sum().\\\n",
        "             sort_values(by='listen_count',ascending=False).head(5000)\n",
        "\n",
        "print('5,000 most popular songs represents {:3.2%} of total listen.'.format(float(play_count.sum())/total_play_count))"
      ],
      "execution_count": null,
      "outputs": [
        {
          "output_type": "stream",
          "text": [
            "5,000 most popular songs represents 81.88% of total listen.\n"
          ],
          "name": "stdout"
        }
      ]
    },
    {
      "cell_type": "code",
      "metadata": {
        "colab": {
          "base_uri": "https://localhost:8080/",
          "height": 290
        },
        "id": "nXJcJUG933-z",
        "outputId": "567da67d-d5c6-466a-fac1-5096cb8c40f7"
      },
      "source": [
        "song_subset = list(play_count.index[:5000])\n",
        "user_subset = list(user_song_list_count.loc[user_song_list_count.song.isin(song_subset), 'user'].unique())\n",
        "display('No of unique songs:', len(song_subset))\n",
        "display('No of unique users', len(user_subset))\n",
        "display('First 5 songs of song_subset:', song_subset[0:5])\n",
        "display('First 5 users of user_subset:', user_subset[0:5])"
      ],
      "execution_count": null,
      "outputs": [
        {
          "output_type": "display_data",
          "data": {
            "application/vnd.google.colaboratory.intrinsic+json": {
              "type": "string"
            },
            "text/plain": [
              "'No of unique songs:'"
            ]
          },
          "metadata": {
            "tags": []
          }
        },
        {
          "output_type": "display_data",
          "data": {
            "text/plain": [
              "5000"
            ]
          },
          "metadata": {
            "tags": []
          }
        },
        {
          "output_type": "display_data",
          "data": {
            "application/vnd.google.colaboratory.intrinsic+json": {
              "type": "string"
            },
            "text/plain": [
              "'No of unique users'"
            ]
          },
          "metadata": {
            "tags": []
          }
        },
        {
          "output_type": "display_data",
          "data": {
            "text/plain": [
              "75708"
            ]
          },
          "metadata": {
            "tags": []
          }
        },
        {
          "output_type": "display_data",
          "data": {
            "application/vnd.google.colaboratory.intrinsic+json": {
              "type": "string"
            },
            "text/plain": [
              "'First 5 songs of song_subset:'"
            ]
          },
          "metadata": {
            "tags": []
          }
        },
        {
          "output_type": "display_data",
          "data": {
            "text/plain": [
              "['SOBONKR12A58A7A7E0',\n",
              " 'SOAUWYT12A81C206F1',\n",
              " 'SOSXLTC12AF72A7F54',\n",
              " 'SOEGIYH12A6D4FC0E3',\n",
              " 'SOFRQTD12A81C233C0']"
            ]
          },
          "metadata": {
            "tags": []
          }
        },
        {
          "output_type": "display_data",
          "data": {
            "application/vnd.google.colaboratory.intrinsic+json": {
              "type": "string"
            },
            "text/plain": [
              "'First 5 users of user_subset:'"
            ]
          },
          "metadata": {
            "tags": []
          }
        },
        {
          "output_type": "display_data",
          "data": {
            "text/plain": [
              "['b80344d063b5ccb3212f76538f3d9e43d87dca9e',\n",
              " '85c1f87fea955d09b4bec2e36aee110927aedf9a',\n",
              " 'bd4c6e843f00bd476847fb75c47b4fb430a06856',\n",
              " '8937134734f869debcab8f23d77465b4caaa85df',\n",
              " '969cc6fb74e076a68e36a04409cb9d3765757508']"
            ]
          },
          "metadata": {
            "tags": []
          }
        }
      ]
    },
    {
      "cell_type": "markdown",
      "metadata": {
        "id": "SOu1L-80wi2W"
      },
      "source": [
        "List the top 75 most popular songs"
      ]
    },
    {
      "cell_type": "code",
      "metadata": {
        "id": "eTpfm1eBwh4K"
      },
      "source": [
        "display('First 75 songs of song_subset:', song_subset[0:75])"
      ],
      "execution_count": null,
      "outputs": []
    },
    {
      "cell_type": "code",
      "metadata": {
        "colab": {
          "base_uri": "https://localhost:8080/",
          "height": 195
        },
        "id": "3rrtIQ4d_tuc",
        "outputId": "0885b989-87b4-4326-b767-32389d740c5b"
      },
      "source": [
        "user_song_list_count_sub = user_song_list_count[user_song_list_count.song.isin(song_subset)]\n",
        "display(user_song_list_count_sub.head())"
      ],
      "execution_count": null,
      "outputs": [
        {
          "output_type": "display_data",
          "data": {
            "text/html": [
              "<div>\n",
              "<style scoped>\n",
              "    .dataframe tbody tr th:only-of-type {\n",
              "        vertical-align: middle;\n",
              "    }\n",
              "\n",
              "    .dataframe tbody tr th {\n",
              "        vertical-align: top;\n",
              "    }\n",
              "\n",
              "    .dataframe thead th {\n",
              "        text-align: right;\n",
              "    }\n",
              "</style>\n",
              "<table border=\"1\" class=\"dataframe\">\n",
              "  <thead>\n",
              "    <tr style=\"text-align: right;\">\n",
              "      <th></th>\n",
              "      <th>user</th>\n",
              "      <th>song</th>\n",
              "      <th>listen_count</th>\n",
              "      <th>title</th>\n",
              "      <th>release</th>\n",
              "      <th>artist_name</th>\n",
              "      <th>year</th>\n",
              "    </tr>\n",
              "  </thead>\n",
              "  <tbody>\n",
              "    <tr>\n",
              "      <th>0</th>\n",
              "      <td>b80344d063b5ccb3212f76538f3d9e43d87dca9e</td>\n",
              "      <td>SOAKIMP12A8C130995</td>\n",
              "      <td>1</td>\n",
              "      <td>The Cove</td>\n",
              "      <td>Thicker Than Water</td>\n",
              "      <td>Jack Johnson</td>\n",
              "      <td>0</td>\n",
              "    </tr>\n",
              "    <tr>\n",
              "      <th>1</th>\n",
              "      <td>b80344d063b5ccb3212f76538f3d9e43d87dca9e</td>\n",
              "      <td>SOBBMDR12A8C13253B</td>\n",
              "      <td>2</td>\n",
              "      <td>Entre Dos Aguas</td>\n",
              "      <td>Flamenco Para Niños</td>\n",
              "      <td>Paco De Lucia</td>\n",
              "      <td>1976</td>\n",
              "    </tr>\n",
              "    <tr>\n",
              "      <th>2</th>\n",
              "      <td>b80344d063b5ccb3212f76538f3d9e43d87dca9e</td>\n",
              "      <td>SOBXHDL12A81C204C0</td>\n",
              "      <td>1</td>\n",
              "      <td>Stronger</td>\n",
              "      <td>Graduation</td>\n",
              "      <td>Kanye West</td>\n",
              "      <td>2007</td>\n",
              "    </tr>\n",
              "    <tr>\n",
              "      <th>3</th>\n",
              "      <td>b80344d063b5ccb3212f76538f3d9e43d87dca9e</td>\n",
              "      <td>SOBYHAJ12A6701BF1D</td>\n",
              "      <td>1</td>\n",
              "      <td>Constellations</td>\n",
              "      <td>In Between Dreams</td>\n",
              "      <td>Jack Johnson</td>\n",
              "      <td>2005</td>\n",
              "    </tr>\n",
              "    <tr>\n",
              "      <th>4</th>\n",
              "      <td>b80344d063b5ccb3212f76538f3d9e43d87dca9e</td>\n",
              "      <td>SODACBL12A8C13C273</td>\n",
              "      <td>1</td>\n",
              "      <td>Learn To Fly</td>\n",
              "      <td>There Is Nothing Left To Lose</td>\n",
              "      <td>Foo Fighters</td>\n",
              "      <td>1999</td>\n",
              "    </tr>\n",
              "  </tbody>\n",
              "</table>\n",
              "</div>"
            ],
            "text/plain": [
              "                                       user  ...  year\n",
              "0  b80344d063b5ccb3212f76538f3d9e43d87dca9e  ...     0\n",
              "1  b80344d063b5ccb3212f76538f3d9e43d87dca9e  ...  1976\n",
              "2  b80344d063b5ccb3212f76538f3d9e43d87dca9e  ...  2007\n",
              "3  b80344d063b5ccb3212f76538f3d9e43d87dca9e  ...  2005\n",
              "4  b80344d063b5ccb3212f76538f3d9e43d87dca9e  ...  1999\n",
              "\n",
              "[5 rows x 7 columns]"
            ]
          },
          "metadata": {
            "tags": []
          }
        }
      ]
    },
    {
      "cell_type": "markdown",
      "metadata": {
        "id": "dgVucv36AWzU"
      },
      "source": [
        "### Recommend songs for the user using personalized model"
      ]
    },
    {
      "cell_type": "code",
      "metadata": {
        "colab": {
          "base_uri": "https://localhost:8080/",
          "height": 394
        },
        "id": "aDEjH1jUAYJy",
        "outputId": "5c79e9aa-a6fa-4b14-ed34-9bf9960adaee"
      },
      "source": [
        "is_model = item_similarity_recommender_py()\n",
        "is_model.create(user_song_list_count_sub, 'user', 'title')\n",
        "user_id = list(user_song_list_count_sub.user)[7]\n",
        "user_items = is_model.get_user_items(user_id)\n",
        "is_model.recommend(user_id)"
      ],
      "execution_count": null,
      "outputs": [
        {
          "output_type": "stream",
          "text": [
            "No. of unique songs for the user: 33\n",
            "no. of unique songs in the training set: 4867\n",
            "Non zero values in cooccurence_matrix :120655\n"
          ],
          "name": "stdout"
        },
        {
          "output_type": "execute_result",
          "data": {
            "text/html": [
              "<div>\n",
              "<style scoped>\n",
              "    .dataframe tbody tr th:only-of-type {\n",
              "        vertical-align: middle;\n",
              "    }\n",
              "\n",
              "    .dataframe tbody tr th {\n",
              "        vertical-align: top;\n",
              "    }\n",
              "\n",
              "    .dataframe thead th {\n",
              "        text-align: right;\n",
              "    }\n",
              "</style>\n",
              "<table border=\"1\" class=\"dataframe\">\n",
              "  <thead>\n",
              "    <tr style=\"text-align: right;\">\n",
              "      <th></th>\n",
              "      <th>user_id</th>\n",
              "      <th>song</th>\n",
              "      <th>score</th>\n",
              "      <th>rank</th>\n",
              "    </tr>\n",
              "  </thead>\n",
              "  <tbody>\n",
              "    <tr>\n",
              "      <th>0</th>\n",
              "      <td>b80344d063b5ccb3212f76538f3d9e43d87dca9e</td>\n",
              "      <td>Quiet Houses</td>\n",
              "      <td>0.044710</td>\n",
              "      <td>1</td>\n",
              "    </tr>\n",
              "    <tr>\n",
              "      <th>1</th>\n",
              "      <td>b80344d063b5ccb3212f76538f3d9e43d87dca9e</td>\n",
              "      <td>Meadowlarks</td>\n",
              "      <td>0.043836</td>\n",
              "      <td>2</td>\n",
              "    </tr>\n",
              "    <tr>\n",
              "      <th>2</th>\n",
              "      <td>b80344d063b5ccb3212f76538f3d9e43d87dca9e</td>\n",
              "      <td>Heard Them Stirring</td>\n",
              "      <td>0.042740</td>\n",
              "      <td>3</td>\n",
              "    </tr>\n",
              "    <tr>\n",
              "      <th>3</th>\n",
              "      <td>b80344d063b5ccb3212f76538f3d9e43d87dca9e</td>\n",
              "      <td>Tiger Mountain Peasant Song</td>\n",
              "      <td>0.041485</td>\n",
              "      <td>4</td>\n",
              "    </tr>\n",
              "    <tr>\n",
              "      <th>4</th>\n",
              "      <td>b80344d063b5ccb3212f76538f3d9e43d87dca9e</td>\n",
              "      <td>Sun It Rises</td>\n",
              "      <td>0.040973</td>\n",
              "      <td>5</td>\n",
              "    </tr>\n",
              "    <tr>\n",
              "      <th>5</th>\n",
              "      <td>b80344d063b5ccb3212f76538f3d9e43d87dca9e</td>\n",
              "      <td>Your Protector</td>\n",
              "      <td>0.039942</td>\n",
              "      <td>6</td>\n",
              "    </tr>\n",
              "    <tr>\n",
              "      <th>6</th>\n",
              "      <td>b80344d063b5ccb3212f76538f3d9e43d87dca9e</td>\n",
              "      <td>Oliver James</td>\n",
              "      <td>0.039287</td>\n",
              "      <td>7</td>\n",
              "    </tr>\n",
              "    <tr>\n",
              "      <th>7</th>\n",
              "      <td>b80344d063b5ccb3212f76538f3d9e43d87dca9e</td>\n",
              "      <td>Great Indoors</td>\n",
              "      <td>0.036765</td>\n",
              "      <td>8</td>\n",
              "    </tr>\n",
              "    <tr>\n",
              "      <th>8</th>\n",
              "      <td>b80344d063b5ccb3212f76538f3d9e43d87dca9e</td>\n",
              "      <td>White Winter Hymnal</td>\n",
              "      <td>0.036345</td>\n",
              "      <td>9</td>\n",
              "    </tr>\n",
              "    <tr>\n",
              "      <th>9</th>\n",
              "      <td>b80344d063b5ccb3212f76538f3d9e43d87dca9e</td>\n",
              "      <td>If I Could</td>\n",
              "      <td>0.034576</td>\n",
              "      <td>10</td>\n",
              "    </tr>\n",
              "  </tbody>\n",
              "</table>\n",
              "</div>"
            ],
            "text/plain": [
              "                                    user_id  ... rank\n",
              "0  b80344d063b5ccb3212f76538f3d9e43d87dca9e  ...    1\n",
              "1  b80344d063b5ccb3212f76538f3d9e43d87dca9e  ...    2\n",
              "2  b80344d063b5ccb3212f76538f3d9e43d87dca9e  ...    3\n",
              "3  b80344d063b5ccb3212f76538f3d9e43d87dca9e  ...    4\n",
              "4  b80344d063b5ccb3212f76538f3d9e43d87dca9e  ...    5\n",
              "5  b80344d063b5ccb3212f76538f3d9e43d87dca9e  ...    6\n",
              "6  b80344d063b5ccb3212f76538f3d9e43d87dca9e  ...    7\n",
              "7  b80344d063b5ccb3212f76538f3d9e43d87dca9e  ...    8\n",
              "8  b80344d063b5ccb3212f76538f3d9e43d87dca9e  ...    9\n",
              "9  b80344d063b5ccb3212f76538f3d9e43d87dca9e  ...   10\n",
              "\n",
              "[10 rows x 4 columns]"
            ]
          },
          "metadata": {
            "tags": []
          },
          "execution_count": 13
        }
      ]
    },
    {
      "cell_type": "markdown",
      "metadata": {
        "id": "f2BaonKNQhNX"
      },
      "source": [
        "### Comparing the results with the top 2 songs played by the user"
      ]
    },
    {
      "cell_type": "code",
      "metadata": {
        "colab": {
          "base_uri": "https://localhost:8080/",
          "height": 106
        },
        "id": "5sYakACDQpzG",
        "outputId": "382365d4-265e-4f1d-89c6-4eeba34bbebd"
      },
      "source": [
        "display(user_song_list_count_sub[(user_song_list_count_sub.user==user_id) & (user_song_list_count_sub.listen_count>5)])"
      ],
      "execution_count": null,
      "outputs": [
        {
          "output_type": "display_data",
          "data": {
            "text/html": [
              "<div>\n",
              "<style scoped>\n",
              "    .dataframe tbody tr th:only-of-type {\n",
              "        vertical-align: middle;\n",
              "    }\n",
              "\n",
              "    .dataframe tbody tr th {\n",
              "        vertical-align: top;\n",
              "    }\n",
              "\n",
              "    .dataframe thead th {\n",
              "        text-align: right;\n",
              "    }\n",
              "</style>\n",
              "<table border=\"1\" class=\"dataframe\">\n",
              "  <thead>\n",
              "    <tr style=\"text-align: right;\">\n",
              "      <th></th>\n",
              "      <th>user</th>\n",
              "      <th>song</th>\n",
              "      <th>listen_count</th>\n",
              "      <th>title</th>\n",
              "      <th>release</th>\n",
              "      <th>artist_name</th>\n",
              "      <th>year</th>\n",
              "    </tr>\n",
              "  </thead>\n",
              "  <tbody>\n",
              "    <tr>\n",
              "      <th>16</th>\n",
              "      <td>b80344d063b5ccb3212f76538f3d9e43d87dca9e</td>\n",
              "      <td>SOMGIYR12AB0187973</td>\n",
              "      <td>6</td>\n",
              "      <td>Behind The Sea [Live In Chicago]</td>\n",
              "      <td>Live In Chicago</td>\n",
              "      <td>Panic At The Disco</td>\n",
              "      <td>0</td>\n",
              "    </tr>\n",
              "    <tr>\n",
              "      <th>43</th>\n",
              "      <td>b80344d063b5ccb3212f76538f3d9e43d87dca9e</td>\n",
              "      <td>SOYHEPA12A8C13097F</td>\n",
              "      <td>8</td>\n",
              "      <td>Moonshine</td>\n",
              "      <td>Thicker Than Water</td>\n",
              "      <td>Jack Johnson</td>\n",
              "      <td>2003</td>\n",
              "    </tr>\n",
              "  </tbody>\n",
              "</table>\n",
              "</div>"
            ],
            "text/plain": [
              "                                        user  ...  year\n",
              "16  b80344d063b5ccb3212f76538f3d9e43d87dca9e  ...     0\n",
              "43  b80344d063b5ccb3212f76538f3d9e43d87dca9e  ...  2003\n",
              "\n",
              "[2 rows x 7 columns]"
            ]
          },
          "metadata": {
            "tags": []
          }
        }
      ]
    },
    {
      "cell_type": "markdown",
      "metadata": {
        "id": "GwuC-wpAdUS_"
      },
      "source": [
        "### We can also apply the model to find similar songs to any song in the dataset"
      ]
    },
    {
      "cell_type": "code",
      "metadata": {
        "colab": {
          "base_uri": "https://localhost:8080/",
          "height": 377
        },
        "id": "Rf3c7NwBdNFw",
        "outputId": "bbc04867-8845-48f5-f6a1-4ddccfe5595e"
      },
      "source": [
        "is_model.get_similar_items(['Moonshine'])"
      ],
      "execution_count": null,
      "outputs": [
        {
          "output_type": "stream",
          "text": [
            "no. of unique songs in the training set: 4867\n",
            "Non zero values in cooccurence_matrix :3835\n"
          ],
          "name": "stdout"
        },
        {
          "output_type": "execute_result",
          "data": {
            "text/html": [
              "<div>\n",
              "<style scoped>\n",
              "    .dataframe tbody tr th:only-of-type {\n",
              "        vertical-align: middle;\n",
              "    }\n",
              "\n",
              "    .dataframe tbody tr th {\n",
              "        vertical-align: top;\n",
              "    }\n",
              "\n",
              "    .dataframe thead th {\n",
              "        text-align: right;\n",
              "    }\n",
              "</style>\n",
              "<table border=\"1\" class=\"dataframe\">\n",
              "  <thead>\n",
              "    <tr style=\"text-align: right;\">\n",
              "      <th></th>\n",
              "      <th>user_id</th>\n",
              "      <th>song</th>\n",
              "      <th>score</th>\n",
              "      <th>rank</th>\n",
              "    </tr>\n",
              "  </thead>\n",
              "  <tbody>\n",
              "    <tr>\n",
              "      <th>0</th>\n",
              "      <td></td>\n",
              "      <td>The Cove</td>\n",
              "      <td>0.311688</td>\n",
              "      <td>1</td>\n",
              "    </tr>\n",
              "    <tr>\n",
              "      <th>1</th>\n",
              "      <td></td>\n",
              "      <td>Questions</td>\n",
              "      <td>0.184444</td>\n",
              "      <td>2</td>\n",
              "    </tr>\n",
              "    <tr>\n",
              "      <th>2</th>\n",
              "      <td></td>\n",
              "      <td>Holes To Heaven</td>\n",
              "      <td>0.183357</td>\n",
              "      <td>3</td>\n",
              "    </tr>\n",
              "    <tr>\n",
              "      <th>3</th>\n",
              "      <td></td>\n",
              "      <td>Supposed To Be</td>\n",
              "      <td>0.173719</td>\n",
              "      <td>4</td>\n",
              "    </tr>\n",
              "    <tr>\n",
              "      <th>4</th>\n",
              "      <td></td>\n",
              "      <td>Wrong Turn</td>\n",
              "      <td>0.168750</td>\n",
              "      <td>5</td>\n",
              "    </tr>\n",
              "    <tr>\n",
              "      <th>5</th>\n",
              "      <td></td>\n",
              "      <td>People Watching</td>\n",
              "      <td>0.166667</td>\n",
              "      <td>6</td>\n",
              "    </tr>\n",
              "    <tr>\n",
              "      <th>6</th>\n",
              "      <td></td>\n",
              "      <td>The News</td>\n",
              "      <td>0.144986</td>\n",
              "      <td>7</td>\n",
              "    </tr>\n",
              "    <tr>\n",
              "      <th>7</th>\n",
              "      <td></td>\n",
              "      <td>Posters</td>\n",
              "      <td>0.143271</td>\n",
              "      <td>8</td>\n",
              "    </tr>\n",
              "    <tr>\n",
              "      <th>8</th>\n",
              "      <td></td>\n",
              "      <td>Belle</td>\n",
              "      <td>0.138989</td>\n",
              "      <td>9</td>\n",
              "    </tr>\n",
              "    <tr>\n",
              "      <th>9</th>\n",
              "      <td></td>\n",
              "      <td>All At Once</td>\n",
              "      <td>0.138943</td>\n",
              "      <td>10</td>\n",
              "    </tr>\n",
              "  </tbody>\n",
              "</table>\n",
              "</div>"
            ],
            "text/plain": [
              "  user_id             song     score rank\n",
              "0                 The Cove  0.311688    1\n",
              "1                Questions  0.184444    2\n",
              "2          Holes To Heaven  0.183357    3\n",
              "3           Supposed To Be  0.173719    4\n",
              "4               Wrong Turn  0.168750    5\n",
              "5          People Watching  0.166667    6\n",
              "6                 The News  0.144986    7\n",
              "7                  Posters  0.143271    8\n",
              "8                    Belle  0.138989    9\n",
              "9              All At Once  0.138943   10"
            ]
          },
          "metadata": {
            "tags": []
          },
          "execution_count": 15
        }
      ]
    }
  ]
}