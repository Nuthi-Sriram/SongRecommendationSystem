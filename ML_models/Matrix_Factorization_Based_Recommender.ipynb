{
  "nbformat": 4,
  "nbformat_minor": 0,
  "metadata": {
    "colab": {
      "name": "Matrix Factorization Based Recommender.ipynb",
      "provenance": [],
      "collapsed_sections": []
    },
    "kernelspec": {
      "name": "python3",
      "display_name": "Python 3"
    }
  },
  "cells": [
    {
      "cell_type": "markdown",
      "metadata": {
        "id": "a7XYBZcnV_T5"
      },
      "source": [
        "### Import Necessary Packages"
      ]
    },
    {
      "cell_type": "code",
      "metadata": {
        "id": "ikp0vSMoaiPf"
      },
      "source": [
        "import pandas as pd\n",
        "import numpy as np\n",
        "from scipy.sparse import coo_matrix\n",
        "import math as mt\n",
        "from scipy.sparse.linalg import * #used for matrix multiplication\n",
        "from scipy.sparse.linalg import svds\n",
        "from scipy.sparse import csc_matrix"
      ],
      "execution_count": null,
      "outputs": []
    },
    {
      "cell_type": "markdown",
      "metadata": {
        "id": "iVyddmGNV_xC"
      },
      "source": [
        "### Load Dataset"
      ]
    },
    {
      "cell_type": "code",
      "metadata": {
        "colab": {
          "base_uri": "https://localhost:8080/"
        },
        "id": "7Fxoqz8mzZOD",
        "outputId": "988e55ff-4eeb-47ec-93ff-128ef9b739d2"
      },
      "source": [
        "from google.colab import drive\n",
        "drive.mount('/content/gdrive')"
      ],
      "execution_count": null,
      "outputs": [
        {
          "output_type": "stream",
          "text": [
            "Mounted at /content/gdrive\n"
          ],
          "name": "stdout"
        }
      ]
    },
    {
      "cell_type": "code",
      "metadata": {
        "id": "7GoEpiBjWAUR"
      },
      "source": [
        "track_metadata_df = pd.read_csv('')\n",
        "count_play_df = pd.read_csv('/content/10000.txt', sep='\\t', header=None, names=['user','song','play_count'])"
      ],
      "execution_count": null,
      "outputs": []
    },
    {
      "cell_type": "code",
      "metadata": {
        "id": "22NqJ3vxziwX"
      },
      "source": [
        "track_metadata_df = pd.read_csv('/content/gdrive/MyDrive/OpenLab/Extra/song_data.csv')\n",
        "count_play_df =pd.read_csv('/content/gdrive/MyDrive/OpenLab/10000.txt', sep='\\t', header=None, names=['user','song','play_count'])"
      ],
      "execution_count": null,
      "outputs": []
    },
    {
      "cell_type": "markdown",
      "metadata": {
        "id": "7jMA3RrxWAr4"
      },
      "source": [
        "### Song_data.csv"
      ]
    },
    {
      "cell_type": "code",
      "metadata": {
        "colab": {
          "base_uri": "https://localhost:8080/",
          "height": 230
        },
        "id": "jMSorIgDWBEd",
        "outputId": "69fda4fe-43dd-4c80-ad62-11e1832cc80e"
      },
      "source": [
        "print('Number of rows:', track_metadata_df.shape[0])\n",
        "print('Number of unique songs:', len(track_metadata_df.song_id.unique()))\n",
        "display(track_metadata_df.head())"
      ],
      "execution_count": null,
      "outputs": [
        {
          "output_type": "stream",
          "text": [
            "Number of rows: 1000000\n",
            "Number of unique songs: 999056\n"
          ],
          "name": "stdout"
        },
        {
          "output_type": "display_data",
          "data": {
            "text/html": [
              "<div>\n",
              "<style scoped>\n",
              "    .dataframe tbody tr th:only-of-type {\n",
              "        vertical-align: middle;\n",
              "    }\n",
              "\n",
              "    .dataframe tbody tr th {\n",
              "        vertical-align: top;\n",
              "    }\n",
              "\n",
              "    .dataframe thead th {\n",
              "        text-align: right;\n",
              "    }\n",
              "</style>\n",
              "<table border=\"1\" class=\"dataframe\">\n",
              "  <thead>\n",
              "    <tr style=\"text-align: right;\">\n",
              "      <th></th>\n",
              "      <th>song_id</th>\n",
              "      <th>title</th>\n",
              "      <th>release</th>\n",
              "      <th>artist_name</th>\n",
              "      <th>year</th>\n",
              "    </tr>\n",
              "  </thead>\n",
              "  <tbody>\n",
              "    <tr>\n",
              "      <th>0</th>\n",
              "      <td>SOQMMHC12AB0180CB8</td>\n",
              "      <td>Silent Night</td>\n",
              "      <td>Monster Ballads X-Mas</td>\n",
              "      <td>Faster Pussy cat</td>\n",
              "      <td>2003</td>\n",
              "    </tr>\n",
              "    <tr>\n",
              "      <th>1</th>\n",
              "      <td>SOVFVAK12A8C1350D9</td>\n",
              "      <td>Tanssi vaan</td>\n",
              "      <td>Karkuteillä</td>\n",
              "      <td>Karkkiautomaatti</td>\n",
              "      <td>1995</td>\n",
              "    </tr>\n",
              "    <tr>\n",
              "      <th>2</th>\n",
              "      <td>SOGTUKN12AB017F4F1</td>\n",
              "      <td>No One Could Ever</td>\n",
              "      <td>Butter</td>\n",
              "      <td>Hudson Mohawke</td>\n",
              "      <td>2006</td>\n",
              "    </tr>\n",
              "    <tr>\n",
              "      <th>3</th>\n",
              "      <td>SOBNYVR12A8C13558C</td>\n",
              "      <td>Si Vos Querés</td>\n",
              "      <td>De Culo</td>\n",
              "      <td>Yerba Brava</td>\n",
              "      <td>2003</td>\n",
              "    </tr>\n",
              "    <tr>\n",
              "      <th>4</th>\n",
              "      <td>SOHSBXH12A8C13B0DF</td>\n",
              "      <td>Tangle Of Aspens</td>\n",
              "      <td>Rene Ablaze Presents Winter Sessions</td>\n",
              "      <td>Der Mystic</td>\n",
              "      <td>0</td>\n",
              "    </tr>\n",
              "  </tbody>\n",
              "</table>\n",
              "</div>"
            ],
            "text/plain": [
              "              song_id              title  ...       artist_name  year\n",
              "0  SOQMMHC12AB0180CB8       Silent Night  ...  Faster Pussy cat  2003\n",
              "1  SOVFVAK12A8C1350D9        Tanssi vaan  ...  Karkkiautomaatti  1995\n",
              "2  SOGTUKN12AB017F4F1  No One Could Ever  ...    Hudson Mohawke  2006\n",
              "3  SOBNYVR12A8C13558C      Si Vos Querés  ...       Yerba Brava  2003\n",
              "4  SOHSBXH12A8C13B0DF   Tangle Of Aspens  ...        Der Mystic     0\n",
              "\n",
              "[5 rows x 5 columns]"
            ]
          },
          "metadata": {
            "tags": []
          }
        }
      ]
    },
    {
      "cell_type": "markdown",
      "metadata": {
        "id": "TtWeRg1zWBjA"
      },
      "source": [
        "Clearly, we have repeated track metadata."
      ]
    },
    {
      "cell_type": "markdown",
      "metadata": {
        "id": "jwlSYiqmWYwd"
      },
      "source": [
        "### 10000.txt"
      ]
    },
    {
      "cell_type": "code",
      "metadata": {
        "colab": {
          "base_uri": "https://localhost:8080/",
          "height": 230
        },
        "id": "x0cpeF45WB__",
        "outputId": "39ca5c68-355b-44c9-983a-350f1f57ac52"
      },
      "source": [
        "print('No of rows:', count_play_df.shape[0])\n",
        "print('Number of unique users:', len(count_play_df.user.unique()))\n",
        "display(count_play_df.head())"
      ],
      "execution_count": null,
      "outputs": [
        {
          "output_type": "stream",
          "text": [
            "No of rows: 2000000\n",
            "Number of unique users: 76353\n"
          ],
          "name": "stdout"
        },
        {
          "output_type": "display_data",
          "data": {
            "text/html": [
              "<div>\n",
              "<style scoped>\n",
              "    .dataframe tbody tr th:only-of-type {\n",
              "        vertical-align: middle;\n",
              "    }\n",
              "\n",
              "    .dataframe tbody tr th {\n",
              "        vertical-align: top;\n",
              "    }\n",
              "\n",
              "    .dataframe thead th {\n",
              "        text-align: right;\n",
              "    }\n",
              "</style>\n",
              "<table border=\"1\" class=\"dataframe\">\n",
              "  <thead>\n",
              "    <tr style=\"text-align: right;\">\n",
              "      <th></th>\n",
              "      <th>user</th>\n",
              "      <th>song</th>\n",
              "      <th>play_count</th>\n",
              "    </tr>\n",
              "  </thead>\n",
              "  <tbody>\n",
              "    <tr>\n",
              "      <th>0</th>\n",
              "      <td>b80344d063b5ccb3212f76538f3d9e43d87dca9e</td>\n",
              "      <td>SOAKIMP12A8C130995</td>\n",
              "      <td>1</td>\n",
              "    </tr>\n",
              "    <tr>\n",
              "      <th>1</th>\n",
              "      <td>b80344d063b5ccb3212f76538f3d9e43d87dca9e</td>\n",
              "      <td>SOBBMDR12A8C13253B</td>\n",
              "      <td>2</td>\n",
              "    </tr>\n",
              "    <tr>\n",
              "      <th>2</th>\n",
              "      <td>b80344d063b5ccb3212f76538f3d9e43d87dca9e</td>\n",
              "      <td>SOBXHDL12A81C204C0</td>\n",
              "      <td>1</td>\n",
              "    </tr>\n",
              "    <tr>\n",
              "      <th>3</th>\n",
              "      <td>b80344d063b5ccb3212f76538f3d9e43d87dca9e</td>\n",
              "      <td>SOBYHAJ12A6701BF1D</td>\n",
              "      <td>1</td>\n",
              "    </tr>\n",
              "    <tr>\n",
              "      <th>4</th>\n",
              "      <td>b80344d063b5ccb3212f76538f3d9e43d87dca9e</td>\n",
              "      <td>SODACBL12A8C13C273</td>\n",
              "      <td>1</td>\n",
              "    </tr>\n",
              "  </tbody>\n",
              "</table>\n",
              "</div>"
            ],
            "text/plain": [
              "                                       user                song  play_count\n",
              "0  b80344d063b5ccb3212f76538f3d9e43d87dca9e  SOAKIMP12A8C130995           1\n",
              "1  b80344d063b5ccb3212f76538f3d9e43d87dca9e  SOBBMDR12A8C13253B           2\n",
              "2  b80344d063b5ccb3212f76538f3d9e43d87dca9e  SOBXHDL12A81C204C0           1\n",
              "3  b80344d063b5ccb3212f76538f3d9e43d87dca9e  SOBYHAJ12A6701BF1D           1\n",
              "4  b80344d063b5ccb3212f76538f3d9e43d87dca9e  SODACBL12A8C13C273           1"
            ]
          },
          "metadata": {
            "tags": []
          }
        }
      ]
    },
    {
      "cell_type": "markdown",
      "metadata": {
        "id": "wLkLMC4YWmY5"
      },
      "source": [
        "### Merge Datasets"
      ]
    },
    {
      "cell_type": "markdown",
      "metadata": {
        "id": "nUKlWpQXM4wi"
      },
      "source": [
        "Merge song_data.csv and 10000.txt based on the song_id."
      ]
    },
    {
      "cell_type": "code",
      "metadata": {
        "colab": {
          "base_uri": "https://localhost:8080/",
          "height": 280
        },
        "id": "h3nVfDmjWmxV",
        "outputId": "8ba94f22-7773-4106-f47f-4b28fb70b013"
      },
      "source": [
        "track_metadata_df.rename(columns = {'song_id': 'song'},inplace=True)\n",
        "user_song_list_count = pd.merge(count_play_df, track_metadata_df.drop_duplicates(['song']), on='song', how ='left')\n",
        "user_song_list_count.rename(columns={'play_count':'listen_count'},inplace=True)\n",
        "display(user_song_list_count.head())"
      ],
      "execution_count": null,
      "outputs": [
        {
          "output_type": "display_data",
          "data": {
            "text/html": [
              "<div>\n",
              "<style scoped>\n",
              "    .dataframe tbody tr th:only-of-type {\n",
              "        vertical-align: middle;\n",
              "    }\n",
              "\n",
              "    .dataframe tbody tr th {\n",
              "        vertical-align: top;\n",
              "    }\n",
              "\n",
              "    .dataframe thead th {\n",
              "        text-align: right;\n",
              "    }\n",
              "</style>\n",
              "<table border=\"1\" class=\"dataframe\">\n",
              "  <thead>\n",
              "    <tr style=\"text-align: right;\">\n",
              "      <th></th>\n",
              "      <th>user</th>\n",
              "      <th>song</th>\n",
              "      <th>listen_count</th>\n",
              "      <th>title</th>\n",
              "      <th>release</th>\n",
              "      <th>artist_name</th>\n",
              "      <th>year</th>\n",
              "    </tr>\n",
              "  </thead>\n",
              "  <tbody>\n",
              "    <tr>\n",
              "      <th>0</th>\n",
              "      <td>b80344d063b5ccb3212f76538f3d9e43d87dca9e</td>\n",
              "      <td>SOAKIMP12A8C130995</td>\n",
              "      <td>1</td>\n",
              "      <td>The Cove</td>\n",
              "      <td>Thicker Than Water</td>\n",
              "      <td>Jack Johnson</td>\n",
              "      <td>0</td>\n",
              "    </tr>\n",
              "    <tr>\n",
              "      <th>1</th>\n",
              "      <td>b80344d063b5ccb3212f76538f3d9e43d87dca9e</td>\n",
              "      <td>SOBBMDR12A8C13253B</td>\n",
              "      <td>2</td>\n",
              "      <td>Entre Dos Aguas</td>\n",
              "      <td>Flamenco Para Niños</td>\n",
              "      <td>Paco De Lucia</td>\n",
              "      <td>1976</td>\n",
              "    </tr>\n",
              "    <tr>\n",
              "      <th>2</th>\n",
              "      <td>b80344d063b5ccb3212f76538f3d9e43d87dca9e</td>\n",
              "      <td>SOBXHDL12A81C204C0</td>\n",
              "      <td>1</td>\n",
              "      <td>Stronger</td>\n",
              "      <td>Graduation</td>\n",
              "      <td>Kanye West</td>\n",
              "      <td>2007</td>\n",
              "    </tr>\n",
              "    <tr>\n",
              "      <th>3</th>\n",
              "      <td>b80344d063b5ccb3212f76538f3d9e43d87dca9e</td>\n",
              "      <td>SOBYHAJ12A6701BF1D</td>\n",
              "      <td>1</td>\n",
              "      <td>Constellations</td>\n",
              "      <td>In Between Dreams</td>\n",
              "      <td>Jack Johnson</td>\n",
              "      <td>2005</td>\n",
              "    </tr>\n",
              "    <tr>\n",
              "      <th>4</th>\n",
              "      <td>b80344d063b5ccb3212f76538f3d9e43d87dca9e</td>\n",
              "      <td>SODACBL12A8C13C273</td>\n",
              "      <td>1</td>\n",
              "      <td>Learn To Fly</td>\n",
              "      <td>There Is Nothing Left To Lose</td>\n",
              "      <td>Foo Fighters</td>\n",
              "      <td>1999</td>\n",
              "    </tr>\n",
              "  </tbody>\n",
              "</table>\n",
              "</div>"
            ],
            "text/plain": [
              "                                       user  ...  year\n",
              "0  b80344d063b5ccb3212f76538f3d9e43d87dca9e  ...     0\n",
              "1  b80344d063b5ccb3212f76538f3d9e43d87dca9e  ...  1976\n",
              "2  b80344d063b5ccb3212f76538f3d9e43d87dca9e  ...  2007\n",
              "3  b80344d063b5ccb3212f76538f3d9e43d87dca9e  ...  2005\n",
              "4  b80344d063b5ccb3212f76538f3d9e43d87dca9e  ...  1999\n",
              "\n",
              "[5 rows x 7 columns]"
            ]
          },
          "metadata": {
            "tags": []
          }
        }
      ]
    },
    {
      "cell_type": "markdown",
      "metadata": {
        "id": "MsCAX8UVWyNI"
      },
      "source": [
        "### Matrix factorization based recommendations"
      ]
    },
    {
      "cell_type": "markdown",
      "metadata": {
        "id": "2gT33JJ6aKXo"
      },
      "source": [
        "#### Getting fractional listen count of every user:"
      ]
    },
    {
      "cell_type": "code",
      "metadata": {
        "id": "oXRt4HJmW52N"
      },
      "source": [
        "user_song_list_listen = user_song_list_count[['user','listen_count']].groupby('user').sum().reset_index()\n",
        "user_song_list_listen.rename(columns={'listen_count':'total_listen_count'},inplace=True)\n",
        "#display(user_song_list_listen.head(3))\n",
        "\n",
        "user_song_list_count_merged = pd.merge(user_song_list_count,user_song_list_listen)\n",
        "#display(user_song_list_count_merged.head())\n",
        "\n",
        "user_song_list_count_merged['fractional_play_count'] = user_song_list_count_merged['listen_count']/user_song_list_count_merged['total_listen_count']"
      ],
      "execution_count": null,
      "outputs": []
    },
    {
      "cell_type": "markdown",
      "metadata": {
        "id": "bhTgsaM9MMkl"
      },
      "source": [
        "#### Displaying fractional count for a single user:"
      ]
    },
    {
      "cell_type": "code",
      "metadata": {
        "colab": {
          "base_uri": "https://localhost:8080/",
          "height": 196
        },
        "id": "x-p_zH-Ga5Zr",
        "outputId": "6aaac634-1ea2-4d6d-e5fe-ef2415a06fa5"
      },
      "source": [
        "display(user_song_list_count_merged[user_song_list_count_merged.user ==\\\n",
        "                                    'd6589314c0a9bcbca4fee0c93b14bc402363afea'][['user','song','listen_count','fractional_play_count','total_listen_count']].head())"
      ],
      "execution_count": null,
      "outputs": [
        {
          "output_type": "display_data",
          "data": {
            "text/html": [
              "<div>\n",
              "<style scoped>\n",
              "    .dataframe tbody tr th:only-of-type {\n",
              "        vertical-align: middle;\n",
              "    }\n",
              "\n",
              "    .dataframe tbody tr th {\n",
              "        vertical-align: top;\n",
              "    }\n",
              "\n",
              "    .dataframe thead th {\n",
              "        text-align: right;\n",
              "    }\n",
              "</style>\n",
              "<table border=\"1\" class=\"dataframe\">\n",
              "  <thead>\n",
              "    <tr style=\"text-align: right;\">\n",
              "      <th></th>\n",
              "      <th>user</th>\n",
              "      <th>song</th>\n",
              "      <th>listen_count</th>\n",
              "      <th>fractional_play_count</th>\n",
              "      <th>total_listen_count</th>\n",
              "    </tr>\n",
              "  </thead>\n",
              "  <tbody>\n",
              "    <tr>\n",
              "      <th>299</th>\n",
              "      <td>d6589314c0a9bcbca4fee0c93b14bc402363afea</td>\n",
              "      <td>SOADQPP12A67020C82</td>\n",
              "      <td>12</td>\n",
              "      <td>0.038961</td>\n",
              "      <td>308</td>\n",
              "    </tr>\n",
              "    <tr>\n",
              "      <th>300</th>\n",
              "      <td>d6589314c0a9bcbca4fee0c93b14bc402363afea</td>\n",
              "      <td>SOAFTRR12AF72A8D4D</td>\n",
              "      <td>1</td>\n",
              "      <td>0.003247</td>\n",
              "      <td>308</td>\n",
              "    </tr>\n",
              "    <tr>\n",
              "      <th>301</th>\n",
              "      <td>d6589314c0a9bcbca4fee0c93b14bc402363afea</td>\n",
              "      <td>SOANQFY12AB0183239</td>\n",
              "      <td>1</td>\n",
              "      <td>0.003247</td>\n",
              "      <td>308</td>\n",
              "    </tr>\n",
              "    <tr>\n",
              "      <th>302</th>\n",
              "      <td>d6589314c0a9bcbca4fee0c93b14bc402363afea</td>\n",
              "      <td>SOAYATB12A6701FD50</td>\n",
              "      <td>1</td>\n",
              "      <td>0.003247</td>\n",
              "      <td>308</td>\n",
              "    </tr>\n",
              "    <tr>\n",
              "      <th>303</th>\n",
              "      <td>d6589314c0a9bcbca4fee0c93b14bc402363afea</td>\n",
              "      <td>SOBOAFP12A8C131F36</td>\n",
              "      <td>7</td>\n",
              "      <td>0.022727</td>\n",
              "      <td>308</td>\n",
              "    </tr>\n",
              "  </tbody>\n",
              "</table>\n",
              "</div>"
            ],
            "text/plain": [
              "                                         user  ... total_listen_count\n",
              "299  d6589314c0a9bcbca4fee0c93b14bc402363afea  ...                308\n",
              "300  d6589314c0a9bcbca4fee0c93b14bc402363afea  ...                308\n",
              "301  d6589314c0a9bcbca4fee0c93b14bc402363afea  ...                308\n",
              "302  d6589314c0a9bcbca4fee0c93b14bc402363afea  ...                308\n",
              "303  d6589314c0a9bcbca4fee0c93b14bc402363afea  ...                308\n",
              "\n",
              "[5 rows x 5 columns]"
            ]
          },
          "metadata": {
            "tags": []
          }
        }
      ]
    },
    {
      "cell_type": "markdown",
      "metadata": {
        "id": "W6tk0JW2MZ5e"
      },
      "source": [
        "#### Displaying merged table which consists of fractional playcount and listen count additionally."
      ]
    },
    {
      "cell_type": "code",
      "metadata": {
        "colab": {
          "base_uri": "https://localhost:8080/",
          "height": 224
        },
        "id": "nyBZkgJkM2SJ",
        "outputId": "48af6069-05a2-40c1-caa7-9932a440bbf6"
      },
      "source": [
        "display(user_song_list_count_merged.head(3))"
      ],
      "execution_count": null,
      "outputs": [
        {
          "output_type": "display_data",
          "data": {
            "text/html": [
              "<div>\n",
              "<style scoped>\n",
              "    .dataframe tbody tr th:only-of-type {\n",
              "        vertical-align: middle;\n",
              "    }\n",
              "\n",
              "    .dataframe tbody tr th {\n",
              "        vertical-align: top;\n",
              "    }\n",
              "\n",
              "    .dataframe thead th {\n",
              "        text-align: right;\n",
              "    }\n",
              "</style>\n",
              "<table border=\"1\" class=\"dataframe\">\n",
              "  <thead>\n",
              "    <tr style=\"text-align: right;\">\n",
              "      <th></th>\n",
              "      <th>user</th>\n",
              "      <th>song</th>\n",
              "      <th>listen_count</th>\n",
              "      <th>title</th>\n",
              "      <th>release</th>\n",
              "      <th>artist_name</th>\n",
              "      <th>year</th>\n",
              "      <th>total_listen_count</th>\n",
              "      <th>fractional_play_count</th>\n",
              "    </tr>\n",
              "  </thead>\n",
              "  <tbody>\n",
              "    <tr>\n",
              "      <th>0</th>\n",
              "      <td>b80344d063b5ccb3212f76538f3d9e43d87dca9e</td>\n",
              "      <td>SOAKIMP12A8C130995</td>\n",
              "      <td>1</td>\n",
              "      <td>The Cove</td>\n",
              "      <td>Thicker Than Water</td>\n",
              "      <td>Jack Johnson</td>\n",
              "      <td>0</td>\n",
              "      <td>71</td>\n",
              "      <td>0.014085</td>\n",
              "    </tr>\n",
              "    <tr>\n",
              "      <th>1</th>\n",
              "      <td>b80344d063b5ccb3212f76538f3d9e43d87dca9e</td>\n",
              "      <td>SOBBMDR12A8C13253B</td>\n",
              "      <td>2</td>\n",
              "      <td>Entre Dos Aguas</td>\n",
              "      <td>Flamenco Para Niños</td>\n",
              "      <td>Paco De Lucia</td>\n",
              "      <td>1976</td>\n",
              "      <td>71</td>\n",
              "      <td>0.028169</td>\n",
              "    </tr>\n",
              "    <tr>\n",
              "      <th>2</th>\n",
              "      <td>b80344d063b5ccb3212f76538f3d9e43d87dca9e</td>\n",
              "      <td>SOBXHDL12A81C204C0</td>\n",
              "      <td>1</td>\n",
              "      <td>Stronger</td>\n",
              "      <td>Graduation</td>\n",
              "      <td>Kanye West</td>\n",
              "      <td>2007</td>\n",
              "      <td>71</td>\n",
              "      <td>0.014085</td>\n",
              "    </tr>\n",
              "  </tbody>\n",
              "</table>\n",
              "</div>"
            ],
            "text/plain": [
              "                                       user  ... fractional_play_count\n",
              "0  b80344d063b5ccb3212f76538f3d9e43d87dca9e  ...              0.014085\n",
              "1  b80344d063b5ccb3212f76538f3d9e43d87dca9e  ...              0.028169\n",
              "2  b80344d063b5ccb3212f76538f3d9e43d87dca9e  ...              0.014085\n",
              "\n",
              "[3 rows x 9 columns]"
            ]
          },
          "metadata": {
            "tags": []
          }
        }
      ]
    },
    {
      "cell_type": "markdown",
      "metadata": {
        "id": "knwzY2GjcYIs"
      },
      "source": [
        "#### Creating Utility Matrix:"
      ]
    },
    {
      "cell_type": "markdown",
      "metadata": {
        "id": "cQmFZ7SjN4RB"
      },
      "source": [
        "#### Extending user_song_list_count_merged table to small_set table which adds indices for each user to track."
      ]
    },
    {
      "cell_type": "code",
      "metadata": {
        "colab": {
          "base_uri": "https://localhost:8080/",
          "height": 404
        },
        "id": "btdqpu6UbyBB",
        "outputId": "9d06969a-f1f9-4146-d611-884ac7221dc3"
      },
      "source": [
        "user_codes = user_song_list_count_merged.user.drop_duplicates().reset_index()\n",
        "#display(user_codes)\n",
        "\n",
        "user_codes.rename(columns={'index':'user_index'}, inplace=True)\n",
        "user_codes['us_index_value'] = list(user_codes.index)\n",
        "display(user_codes)"
      ],
      "execution_count": null,
      "outputs": [
        {
          "output_type": "display_data",
          "data": {
            "text/html": [
              "<div>\n",
              "<style scoped>\n",
              "    .dataframe tbody tr th:only-of-type {\n",
              "        vertical-align: middle;\n",
              "    }\n",
              "\n",
              "    .dataframe tbody tr th {\n",
              "        vertical-align: top;\n",
              "    }\n",
              "\n",
              "    .dataframe thead th {\n",
              "        text-align: right;\n",
              "    }\n",
              "</style>\n",
              "<table border=\"1\" class=\"dataframe\">\n",
              "  <thead>\n",
              "    <tr style=\"text-align: right;\">\n",
              "      <th></th>\n",
              "      <th>user_index</th>\n",
              "      <th>user</th>\n",
              "      <th>us_index_value</th>\n",
              "    </tr>\n",
              "  </thead>\n",
              "  <tbody>\n",
              "    <tr>\n",
              "      <th>0</th>\n",
              "      <td>0</td>\n",
              "      <td>b80344d063b5ccb3212f76538f3d9e43d87dca9e</td>\n",
              "      <td>0</td>\n",
              "    </tr>\n",
              "    <tr>\n",
              "      <th>1</th>\n",
              "      <td>45</td>\n",
              "      <td>85c1f87fea955d09b4bec2e36aee110927aedf9a</td>\n",
              "      <td>1</td>\n",
              "    </tr>\n",
              "    <tr>\n",
              "      <th>2</th>\n",
              "      <td>46</td>\n",
              "      <td>bd4c6e843f00bd476847fb75c47b4fb430a06856</td>\n",
              "      <td>2</td>\n",
              "    </tr>\n",
              "    <tr>\n",
              "      <th>3</th>\n",
              "      <td>54</td>\n",
              "      <td>8937134734f869debcab8f23d77465b4caaa85df</td>\n",
              "      <td>3</td>\n",
              "    </tr>\n",
              "    <tr>\n",
              "      <th>4</th>\n",
              "      <td>56</td>\n",
              "      <td>969cc6fb74e076a68e36a04409cb9d3765757508</td>\n",
              "      <td>4</td>\n",
              "    </tr>\n",
              "    <tr>\n",
              "      <th>...</th>\n",
              "      <td>...</td>\n",
              "      <td>...</td>\n",
              "      <td>...</td>\n",
              "    </tr>\n",
              "    <tr>\n",
              "      <th>76348</th>\n",
              "      <td>1999874</td>\n",
              "      <td>391de020bddab59d1927ff4884cbebf8797df289</td>\n",
              "      <td>76348</td>\n",
              "    </tr>\n",
              "    <tr>\n",
              "      <th>76349</th>\n",
              "      <td>1999883</td>\n",
              "      <td>9a51c7b254e90470fff3d34ef5cc516d21633471</td>\n",
              "      <td>76349</td>\n",
              "    </tr>\n",
              "    <tr>\n",
              "      <th>76350</th>\n",
              "      <td>1999905</td>\n",
              "      <td>a955513fb89fdb0d5e8437a5cf8a9b3a0abad4d5</td>\n",
              "      <td>76350</td>\n",
              "    </tr>\n",
              "    <tr>\n",
              "      <th>76351</th>\n",
              "      <td>1999918</td>\n",
              "      <td>276e43ad698705e5011e5091f367d951b21246f5</td>\n",
              "      <td>76351</td>\n",
              "    </tr>\n",
              "    <tr>\n",
              "      <th>76352</th>\n",
              "      <td>1999947</td>\n",
              "      <td>d8bfd4ec88f0f3773a9e022e3c1a0f1d3b7b6a92</td>\n",
              "      <td>76352</td>\n",
              "    </tr>\n",
              "  </tbody>\n",
              "</table>\n",
              "<p>76353 rows × 3 columns</p>\n",
              "</div>"
            ],
            "text/plain": [
              "       user_index                                      user  us_index_value\n",
              "0               0  b80344d063b5ccb3212f76538f3d9e43d87dca9e               0\n",
              "1              45  85c1f87fea955d09b4bec2e36aee110927aedf9a               1\n",
              "2              46  bd4c6e843f00bd476847fb75c47b4fb430a06856               2\n",
              "3              54  8937134734f869debcab8f23d77465b4caaa85df               3\n",
              "4              56  969cc6fb74e076a68e36a04409cb9d3765757508               4\n",
              "...           ...                                       ...             ...\n",
              "76348     1999874  391de020bddab59d1927ff4884cbebf8797df289           76348\n",
              "76349     1999883  9a51c7b254e90470fff3d34ef5cc516d21633471           76349\n",
              "76350     1999905  a955513fb89fdb0d5e8437a5cf8a9b3a0abad4d5           76350\n",
              "76351     1999918  276e43ad698705e5011e5091f367d951b21246f5           76351\n",
              "76352     1999947  d8bfd4ec88f0f3773a9e022e3c1a0f1d3b7b6a92           76352\n",
              "\n",
              "[76353 rows x 3 columns]"
            ]
          },
          "metadata": {
            "tags": []
          }
        }
      ]
    },
    {
      "cell_type": "code",
      "metadata": {
        "colab": {
          "base_uri": "https://localhost:8080/",
          "height": 404
        },
        "id": "Kz6ATFgpgFCz",
        "outputId": "b48e4dc7-08ed-4973-910c-cda31b2c5595"
      },
      "source": [
        "song_codes = user_song_list_count_merged.song.drop_duplicates().reset_index()\n",
        "song_codes.rename(columns={'index':'song_index'}, inplace=True)\n",
        "\n",
        "song_codes['so_index_value'] = list(song_codes.index)\n",
        "display(song_codes)"
      ],
      "execution_count": null,
      "outputs": [
        {
          "output_type": "display_data",
          "data": {
            "text/html": [
              "<div>\n",
              "<style scoped>\n",
              "    .dataframe tbody tr th:only-of-type {\n",
              "        vertical-align: middle;\n",
              "    }\n",
              "\n",
              "    .dataframe tbody tr th {\n",
              "        vertical-align: top;\n",
              "    }\n",
              "\n",
              "    .dataframe thead th {\n",
              "        text-align: right;\n",
              "    }\n",
              "</style>\n",
              "<table border=\"1\" class=\"dataframe\">\n",
              "  <thead>\n",
              "    <tr style=\"text-align: right;\">\n",
              "      <th></th>\n",
              "      <th>song_index</th>\n",
              "      <th>song</th>\n",
              "      <th>so_index_value</th>\n",
              "    </tr>\n",
              "  </thead>\n",
              "  <tbody>\n",
              "    <tr>\n",
              "      <th>0</th>\n",
              "      <td>0</td>\n",
              "      <td>SOAKIMP12A8C130995</td>\n",
              "      <td>0</td>\n",
              "    </tr>\n",
              "    <tr>\n",
              "      <th>1</th>\n",
              "      <td>1</td>\n",
              "      <td>SOBBMDR12A8C13253B</td>\n",
              "      <td>1</td>\n",
              "    </tr>\n",
              "    <tr>\n",
              "      <th>2</th>\n",
              "      <td>2</td>\n",
              "      <td>SOBXHDL12A81C204C0</td>\n",
              "      <td>2</td>\n",
              "    </tr>\n",
              "    <tr>\n",
              "      <th>3</th>\n",
              "      <td>3</td>\n",
              "      <td>SOBYHAJ12A6701BF1D</td>\n",
              "      <td>3</td>\n",
              "    </tr>\n",
              "    <tr>\n",
              "      <th>4</th>\n",
              "      <td>4</td>\n",
              "      <td>SODACBL12A8C13C273</td>\n",
              "      <td>4</td>\n",
              "    </tr>\n",
              "    <tr>\n",
              "      <th>...</th>\n",
              "      <td>...</td>\n",
              "      <td>...</td>\n",
              "      <td>...</td>\n",
              "    </tr>\n",
              "    <tr>\n",
              "      <th>9995</th>\n",
              "      <td>176740</td>\n",
              "      <td>SOQYVCY12A8C13AA92</td>\n",
              "      <td>9995</td>\n",
              "    </tr>\n",
              "    <tr>\n",
              "      <th>9996</th>\n",
              "      <td>188475</td>\n",
              "      <td>SORHFLF12A6D4F7429</td>\n",
              "      <td>9996</td>\n",
              "    </tr>\n",
              "    <tr>\n",
              "      <th>9997</th>\n",
              "      <td>209505</td>\n",
              "      <td>SOXWEPM12AB0181694</td>\n",
              "      <td>9997</td>\n",
              "    </tr>\n",
              "    <tr>\n",
              "      <th>9998</th>\n",
              "      <td>222753</td>\n",
              "      <td>SOGYQGZ12AB017E08A</td>\n",
              "      <td>9998</td>\n",
              "    </tr>\n",
              "    <tr>\n",
              "      <th>9999</th>\n",
              "      <td>238007</td>\n",
              "      <td>SOPBPHJ12AAF3B59B6</td>\n",
              "      <td>9999</td>\n",
              "    </tr>\n",
              "  </tbody>\n",
              "</table>\n",
              "<p>10000 rows × 3 columns</p>\n",
              "</div>"
            ],
            "text/plain": [
              "      song_index                song  so_index_value\n",
              "0              0  SOAKIMP12A8C130995               0\n",
              "1              1  SOBBMDR12A8C13253B               1\n",
              "2              2  SOBXHDL12A81C204C0               2\n",
              "3              3  SOBYHAJ12A6701BF1D               3\n",
              "4              4  SODACBL12A8C13C273               4\n",
              "...          ...                 ...             ...\n",
              "9995      176740  SOQYVCY12A8C13AA92            9995\n",
              "9996      188475  SORHFLF12A6D4F7429            9996\n",
              "9997      209505  SOXWEPM12AB0181694            9997\n",
              "9998      222753  SOGYQGZ12AB017E08A            9998\n",
              "9999      238007  SOPBPHJ12AAF3B59B6            9999\n",
              "\n",
              "[10000 rows x 3 columns]"
            ]
          },
          "metadata": {
            "tags": []
          }
        }
      ]
    },
    {
      "cell_type": "code",
      "metadata": {
        "id": "Sg_u-bHzhBWr",
        "colab": {
          "base_uri": "https://localhost:8080/",
          "height": 367
        },
        "outputId": "12fa9f11-022d-469f-eca8-3f8bff6f1c65"
      },
      "source": [
        "small_set = pd.merge(user_song_list_count_merged,song_codes,how='left')\n",
        "#display(small_set.columns)\n",
        "small_set = pd.merge(small_set,user_codes,how='left')\n",
        "display(small_set.head())\n",
        "small_set.shape"
      ],
      "execution_count": null,
      "outputs": [
        {
          "output_type": "display_data",
          "data": {
            "text/html": [
              "<div>\n",
              "<style scoped>\n",
              "    .dataframe tbody tr th:only-of-type {\n",
              "        vertical-align: middle;\n",
              "    }\n",
              "\n",
              "    .dataframe tbody tr th {\n",
              "        vertical-align: top;\n",
              "    }\n",
              "\n",
              "    .dataframe thead th {\n",
              "        text-align: right;\n",
              "    }\n",
              "</style>\n",
              "<table border=\"1\" class=\"dataframe\">\n",
              "  <thead>\n",
              "    <tr style=\"text-align: right;\">\n",
              "      <th></th>\n",
              "      <th>user</th>\n",
              "      <th>song</th>\n",
              "      <th>listen_count</th>\n",
              "      <th>title</th>\n",
              "      <th>release</th>\n",
              "      <th>artist_name</th>\n",
              "      <th>year</th>\n",
              "      <th>total_listen_count</th>\n",
              "      <th>fractional_play_count</th>\n",
              "      <th>song_index</th>\n",
              "      <th>so_index_value</th>\n",
              "      <th>user_index</th>\n",
              "      <th>us_index_value</th>\n",
              "    </tr>\n",
              "  </thead>\n",
              "  <tbody>\n",
              "    <tr>\n",
              "      <th>0</th>\n",
              "      <td>b80344d063b5ccb3212f76538f3d9e43d87dca9e</td>\n",
              "      <td>SOAKIMP12A8C130995</td>\n",
              "      <td>1</td>\n",
              "      <td>The Cove</td>\n",
              "      <td>Thicker Than Water</td>\n",
              "      <td>Jack Johnson</td>\n",
              "      <td>0</td>\n",
              "      <td>71</td>\n",
              "      <td>0.014085</td>\n",
              "      <td>0</td>\n",
              "      <td>0</td>\n",
              "      <td>0</td>\n",
              "      <td>0</td>\n",
              "    </tr>\n",
              "    <tr>\n",
              "      <th>1</th>\n",
              "      <td>b80344d063b5ccb3212f76538f3d9e43d87dca9e</td>\n",
              "      <td>SOBBMDR12A8C13253B</td>\n",
              "      <td>2</td>\n",
              "      <td>Entre Dos Aguas</td>\n",
              "      <td>Flamenco Para Niños</td>\n",
              "      <td>Paco De Lucia</td>\n",
              "      <td>1976</td>\n",
              "      <td>71</td>\n",
              "      <td>0.028169</td>\n",
              "      <td>1</td>\n",
              "      <td>1</td>\n",
              "      <td>0</td>\n",
              "      <td>0</td>\n",
              "    </tr>\n",
              "    <tr>\n",
              "      <th>2</th>\n",
              "      <td>b80344d063b5ccb3212f76538f3d9e43d87dca9e</td>\n",
              "      <td>SOBXHDL12A81C204C0</td>\n",
              "      <td>1</td>\n",
              "      <td>Stronger</td>\n",
              "      <td>Graduation</td>\n",
              "      <td>Kanye West</td>\n",
              "      <td>2007</td>\n",
              "      <td>71</td>\n",
              "      <td>0.014085</td>\n",
              "      <td>2</td>\n",
              "      <td>2</td>\n",
              "      <td>0</td>\n",
              "      <td>0</td>\n",
              "    </tr>\n",
              "    <tr>\n",
              "      <th>3</th>\n",
              "      <td>b80344d063b5ccb3212f76538f3d9e43d87dca9e</td>\n",
              "      <td>SOBYHAJ12A6701BF1D</td>\n",
              "      <td>1</td>\n",
              "      <td>Constellations</td>\n",
              "      <td>In Between Dreams</td>\n",
              "      <td>Jack Johnson</td>\n",
              "      <td>2005</td>\n",
              "      <td>71</td>\n",
              "      <td>0.014085</td>\n",
              "      <td>3</td>\n",
              "      <td>3</td>\n",
              "      <td>0</td>\n",
              "      <td>0</td>\n",
              "    </tr>\n",
              "    <tr>\n",
              "      <th>4</th>\n",
              "      <td>b80344d063b5ccb3212f76538f3d9e43d87dca9e</td>\n",
              "      <td>SODACBL12A8C13C273</td>\n",
              "      <td>1</td>\n",
              "      <td>Learn To Fly</td>\n",
              "      <td>There Is Nothing Left To Lose</td>\n",
              "      <td>Foo Fighters</td>\n",
              "      <td>1999</td>\n",
              "      <td>71</td>\n",
              "      <td>0.014085</td>\n",
              "      <td>4</td>\n",
              "      <td>4</td>\n",
              "      <td>0</td>\n",
              "      <td>0</td>\n",
              "    </tr>\n",
              "  </tbody>\n",
              "</table>\n",
              "</div>"
            ],
            "text/plain": [
              "                                       user  ... us_index_value\n",
              "0  b80344d063b5ccb3212f76538f3d9e43d87dca9e  ...              0\n",
              "1  b80344d063b5ccb3212f76538f3d9e43d87dca9e  ...              0\n",
              "2  b80344d063b5ccb3212f76538f3d9e43d87dca9e  ...              0\n",
              "3  b80344d063b5ccb3212f76538f3d9e43d87dca9e  ...              0\n",
              "4  b80344d063b5ccb3212f76538f3d9e43d87dca9e  ...              0\n",
              "\n",
              "[5 rows x 13 columns]"
            ]
          },
          "metadata": {
            "tags": []
          }
        },
        {
          "output_type": "execute_result",
          "data": {
            "text/plain": [
              "(2000000, 13)"
            ]
          },
          "metadata": {
            "tags": []
          },
          "execution_count": 12
        }
      ]
    },
    {
      "cell_type": "markdown",
      "metadata": {
        "id": "OQqY1TpAO2fG"
      },
      "source": [
        "Generating mat_candidate which consists of just user indices, song indices and fractional play count"
      ]
    },
    {
      "cell_type": "code",
      "metadata": {
        "colab": {
          "base_uri": "https://localhost:8080/",
          "height": 404
        },
        "id": "RbKmoinXina7",
        "outputId": "7b64ad49-fc03-4da6-b828-a7e8554b0034"
      },
      "source": [
        "mat_candidate = small_set[['us_index_value','so_index_value','fractional_play_count']]\n",
        "display(mat_candidate)"
      ],
      "execution_count": null,
      "outputs": [
        {
          "output_type": "display_data",
          "data": {
            "text/html": [
              "<div>\n",
              "<style scoped>\n",
              "    .dataframe tbody tr th:only-of-type {\n",
              "        vertical-align: middle;\n",
              "    }\n",
              "\n",
              "    .dataframe tbody tr th {\n",
              "        vertical-align: top;\n",
              "    }\n",
              "\n",
              "    .dataframe thead th {\n",
              "        text-align: right;\n",
              "    }\n",
              "</style>\n",
              "<table border=\"1\" class=\"dataframe\">\n",
              "  <thead>\n",
              "    <tr style=\"text-align: right;\">\n",
              "      <th></th>\n",
              "      <th>us_index_value</th>\n",
              "      <th>so_index_value</th>\n",
              "      <th>fractional_play_count</th>\n",
              "    </tr>\n",
              "  </thead>\n",
              "  <tbody>\n",
              "    <tr>\n",
              "      <th>0</th>\n",
              "      <td>0</td>\n",
              "      <td>0</td>\n",
              "      <td>0.014085</td>\n",
              "    </tr>\n",
              "    <tr>\n",
              "      <th>1</th>\n",
              "      <td>0</td>\n",
              "      <td>1</td>\n",
              "      <td>0.028169</td>\n",
              "    </tr>\n",
              "    <tr>\n",
              "      <th>2</th>\n",
              "      <td>0</td>\n",
              "      <td>2</td>\n",
              "      <td>0.014085</td>\n",
              "    </tr>\n",
              "    <tr>\n",
              "      <th>3</th>\n",
              "      <td>0</td>\n",
              "      <td>3</td>\n",
              "      <td>0.014085</td>\n",
              "    </tr>\n",
              "    <tr>\n",
              "      <th>4</th>\n",
              "      <td>0</td>\n",
              "      <td>4</td>\n",
              "      <td>0.014085</td>\n",
              "    </tr>\n",
              "    <tr>\n",
              "      <th>...</th>\n",
              "      <td>...</td>\n",
              "      <td>...</td>\n",
              "      <td>...</td>\n",
              "    </tr>\n",
              "    <tr>\n",
              "      <th>1999995</th>\n",
              "      <td>76352</td>\n",
              "      <td>7159</td>\n",
              "      <td>0.015625</td>\n",
              "    </tr>\n",
              "    <tr>\n",
              "      <th>1999996</th>\n",
              "      <td>76352</td>\n",
              "      <td>1315</td>\n",
              "      <td>0.031250</td>\n",
              "    </tr>\n",
              "    <tr>\n",
              "      <th>1999997</th>\n",
              "      <td>76352</td>\n",
              "      <td>2965</td>\n",
              "      <td>0.023438</td>\n",
              "    </tr>\n",
              "    <tr>\n",
              "      <th>1999998</th>\n",
              "      <td>76352</td>\n",
              "      <td>1363</td>\n",
              "      <td>0.007812</td>\n",
              "    </tr>\n",
              "    <tr>\n",
              "      <th>1999999</th>\n",
              "      <td>76352</td>\n",
              "      <td>1963</td>\n",
              "      <td>0.007812</td>\n",
              "    </tr>\n",
              "  </tbody>\n",
              "</table>\n",
              "<p>2000000 rows × 3 columns</p>\n",
              "</div>"
            ],
            "text/plain": [
              "         us_index_value  so_index_value  fractional_play_count\n",
              "0                     0               0               0.014085\n",
              "1                     0               1               0.028169\n",
              "2                     0               2               0.014085\n",
              "3                     0               3               0.014085\n",
              "4                     0               4               0.014085\n",
              "...                 ...             ...                    ...\n",
              "1999995           76352            7159               0.015625\n",
              "1999996           76352            1315               0.031250\n",
              "1999997           76352            2965               0.023438\n",
              "1999998           76352            1363               0.007812\n",
              "1999999           76352            1963               0.007812\n",
              "\n",
              "[2000000 rows x 3 columns]"
            ]
          },
          "metadata": {
            "tags": []
          }
        }
      ]
    },
    {
      "cell_type": "markdown",
      "metadata": {
        "id": "FwCDDDc_PM9n"
      },
      "source": [
        "Sparse Matrix generation:"
      ]
    },
    {
      "cell_type": "code",
      "metadata": {
        "colab": {
          "base_uri": "https://localhost:8080/"
        },
        "id": "G9Mp7lQJixnu",
        "outputId": "7176c8ab-fa74-4ac8-e0c7-d8f06d0acd4b"
      },
      "source": [
        "data_array =mat_candidate.fractional_play_count.values\n",
        "row_array = mat_candidate.us_index_value.values\n",
        "col_array = mat_candidate.so_index_value.values\n",
        "data_sparse = coo_matrix((data_array, (row_array, col_array)),dtype=float)\n",
        "data_sparse.shape"
      ],
      "execution_count": null,
      "outputs": [
        {
          "output_type": "execute_result",
          "data": {
            "text/plain": [
              "(76353, 10000)"
            ]
          },
          "metadata": {
            "tags": []
          },
          "execution_count": 14
        }
      ]
    },
    {
      "cell_type": "markdown",
      "metadata": {
        "id": "BYYfxF8no1qO"
      },
      "source": [
        "data_array[i] is value at (row_array[i], col_array[i]) position when using Coordinate Format (COO) to generate sparse matrix\n"
      ]
    },
    {
      "cell_type": "markdown",
      "metadata": {
        "id": "mlmnrYZurV56"
      },
      "source": [
        "### SVD algorithm implementation through factorisation:"
      ]
    },
    {
      "cell_type": "markdown",
      "metadata": {
        "id": "JLS3ARXmahBe"
      },
      "source": [
        "![Matrix multiplication.PNG](data:image/png;base64,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)"
      ]
    },
    {
      "cell_type": "markdown",
      "metadata": {
        "id": "uSoiOMAusi2I"
      },
      "source": [
        "#### **compute_svd:**\n",
        "It use the svds function provided by the scipy library to break down our utility matrix into three different matrices.\n",
        "\n",
        "#### **compute_estimated_matrix:** \n",
        "Use the decomposed matrices by SVD and provide the predictions."
      ]
    },
    {
      "cell_type": "markdown",
      "metadata": {
        "id": "FUdPdhrF5asR"
      },
      "source": [
        "Compressed Sparse Column Format (CSC)"
      ]
    },
    {
      "cell_type": "markdown",
      "metadata": {
        "id": "L5biAxAA7_wz"
      },
      "source": [
        "[SVD explained](https://jonathan-hui.medium.com/machine-learning-singular-value-decomposition-svd-principal-component-analysis-pca-1d45e885e491)"
      ]
    },
    {
      "cell_type": "code",
      "metadata": {
        "id": "OZFnqyB1bc1W"
      },
      "source": [
        "K=50\n",
        "urm = data_sparse\n",
        "MAX_PID = urm.shape[1]\n",
        "MAX_UID = urm.shape[0]"
      ],
      "execution_count": null,
      "outputs": []
    },
    {
      "cell_type": "code",
      "metadata": {
        "id": "h6G0EOIvs52u"
      },
      "source": [
        "def compute_svd(urm, K):\n",
        "    U, s, Vt = svds(urm, K)\n",
        "    #urm=U*S*Vt\n",
        "    # s is the list of eigen values corresponding to urm*urmT, its length is equal to K\n",
        "    dim = (len(s), len(s))\n",
        "    S = np.zeros(dim, dtype=np.float32)\n",
        "    for i in range(0, len(s)):\n",
        "        S[i,i] = mt.sqrt(s[i])\n",
        "    #print(\"Shape of S\",S.shape)\n",
        "    #print(\"Shape of V\", Vt.shape)\n",
        "    U = csc_matrix(U, dtype=np.float32)\n",
        "    S = csc_matrix(S, dtype=np.float32)\n",
        "    Vt = csc_matrix(Vt, dtype=np.float32)\n",
        "    \n",
        "    return U, S, Vt"
      ],
      "execution_count": null,
      "outputs": []
    },
    {
      "cell_type": "code",
      "metadata": {
        "id": "PFerrrmHPYiO"
      },
      "source": [
        "def compute_estimated_matrix(urm, U, S, Vt, uTest, K, test):\n",
        "    rightTerm = S*Vt \n",
        "    max_recommendation = 250\n",
        "    estimatedRatings = np.zeros(shape=(MAX_UID, MAX_PID), dtype=np.float16)\n",
        "    recomendRatings = np.zeros(shape=(MAX_UID,max_recommendation ), dtype=np.float16)\n",
        "    for userTest in uTest:\n",
        "        prod = U[userTest, :]*rightTerm\n",
        "        estimatedRatings[userTest, :] = prod.todense()\n",
        "        recomendRatings[userTest, :] = (-estimatedRatings[userTest, :]).argsort()[:max_recommendation] #ranking, descending order, selecting first recommmendations' indices in estimated rankings\n",
        "    return recomendRatings"
      ],
      "execution_count": null,
      "outputs": []
    },
    {
      "cell_type": "code",
      "metadata": {
        "id": "3GddsJKbPda8"
      },
      "source": [
        "def show_recomendations(uTest, num_recomendations = 10):\n",
        "    for user in uTest:\n",
        "        print('-'*70)\n",
        "        print(\"Recommendation for user id {}\".format(user))\n",
        "        rank_value = 1\n",
        "        i = 0\n",
        "        while (rank_value <  num_recomendations + 1):\n",
        "            so = uTest_recommended_items[user,i:i+1][0]\n",
        "            if (small_set.user[(small_set.so_index_value == so) & (small_set.us_index_value == user)].count()==0):\n",
        "                song_details = small_set[(small_set.so_index_value == so)].\\\n",
        "                    drop_duplicates('so_index_value')[['title','artist_name']]\n",
        "                print(\"The number {} recommended song is {} BY {}\".format(rank_value, \n",
        "                                                                      list(song_details['title'])[0],\n",
        "                                                                      list(song_details['artist_name'])[0]))\n",
        "                rank_value+=1\n",
        "            i += 1"
      ],
      "execution_count": null,
      "outputs": []
    },
    {
      "cell_type": "markdown",
      "metadata": {
        "id": "gzwKtR_Ja972"
      },
      "source": [
        "#### Showing Recommendations:"
      ]
    },
    {
      "cell_type": "code",
      "metadata": {
        "id": "vCAhcAX_paFN",
        "colab": {
          "base_uri": "https://localhost:8080/"
        },
        "outputId": "11c7b9ab-553b-45cd-d5be-5327f91709a8"
      },
      "source": [
        "U, S, Vt = compute_svd(urm, K)\n",
        "uTest = [4,5,6,7,8,873,23]\n",
        "uTest2=[1,2,3,4,5]\n",
        "uTest3=[4,5,6,7,8,9,10]\n",
        "uTest_recommended_items = compute_estimated_matrix(urm, U, S, Vt, uTest, K, True)\n",
        "#uTest_recommended_items.shape\n",
        "#show_recomendations(uTest2)\n",
        "show_recomendations(uTest3)\n",
        "show_recomendations(uTest)"
      ],
      "execution_count": null,
      "outputs": [
        {
          "output_type": "stream",
          "text": [
            "----------------------------------------------------------------------\n",
            "Recommendation for user id 4\n",
            "The number 1 recommended song is 911 BY Wyclef Jean / Mary J. Blige\n",
            "The number 2 recommended song is If I Ain't Got You BY Alicia Keys\n",
            "The number 3 recommended song is Sample Track 2 BY Simon Harris\n",
            "The number 4 recommended song is Kennedy Rag BY Suzy Thompson\n",
            "The number 5 recommended song is Clocks BY Coldplay\n",
            "The number 6 recommended song is Yellow BY Coldplay\n",
            "The number 7 recommended song is Hey_ Soul Sister BY Train\n",
            "The number 8 recommended song is The Scientist BY Coldplay\n",
            "The number 9 recommended song is Eco BY Jorge Drexler\n",
            "The number 10 recommended song is Kryptonite BY 3 Doors Down\n",
            "----------------------------------------------------------------------\n",
            "Recommendation for user id 5\n",
            "The number 1 recommended song is Eenie Meenie BY Sean Kingston and Justin Bieber\n",
            "The number 2 recommended song is Sample Track 2 BY Simon Harris\n",
            "The number 3 recommended song is U Smile BY Justin Bieber\n",
            "The number 4 recommended song is Love Me BY Justin Bieber\n",
            "The number 5 recommended song is One Time BY Justin Bieber\n",
            "The number 6 recommended song is That Should Be Me BY Justin Bieber\n",
            "The number 7 recommended song is Teach Me How To Dougie BY California Swag District\n",
            "The number 8 recommended song is The Gift BY Angels and Airwaves\n",
            "The number 9 recommended song is Kennedy Rag BY Suzy Thompson\n",
            "The number 10 recommended song is One Less Lonely Girl BY Justin Bieber\n",
            "----------------------------------------------------------------------\n",
            "Recommendation for user id 6\n",
            "The number 1 recommended song is Pursuit Of Happiness (nightmare) BY Kid Cudi / MGMT / Ratatat\n",
            "The number 2 recommended song is The Scientist BY Coldplay\n",
            "The number 3 recommended song is Lucky (Album Version) BY Jason Mraz & Colbie Caillat\n",
            "The number 4 recommended song is Vanilla Twilight BY Owl City\n",
            "The number 5 recommended song is Bleed It Out [Live At Milton Keynes] BY Linkin Park\n",
            "The number 6 recommended song is The Only Exception (Album Version) BY Paramore\n",
            "The number 7 recommended song is All The Right Moves BY OneRepublic\n",
            "The number 8 recommended song is Forever BY Drake / Kanye West / Lil Wayne / Eminem\n",
            "The number 9 recommended song is Love Story BY Taylor Swift\n",
            "The number 10 recommended song is Heartbreak Warfare BY John Mayer\n",
            "----------------------------------------------------------------------\n",
            "Recommendation for user id 7\n",
            "The number 1 recommended song is Lucky (Album Version) BY Jason Mraz & Colbie Caillat\n",
            "The number 2 recommended song is Fix You BY Coldplay\n",
            "The number 3 recommended song is Use Somebody BY Kings Of Leon\n",
            "The number 4 recommended song is Shiver BY Coldplay\n",
            "The number 5 recommended song is Don't Panic BY Coldplay\n",
            "The number 6 recommended song is Heartbreak Warfare BY John Mayer\n",
            "The number 7 recommended song is Sparks BY Coldplay\n",
            "The number 8 recommended song is Pursuit Of Happiness (nightmare) BY Kid Cudi / MGMT / Ratatat\n",
            "The number 9 recommended song is Uprising BY Muse\n",
            "The number 10 recommended song is Bitter Sweet Symphony BY The Verve\n",
            "----------------------------------------------------------------------\n",
            "Recommendation for user id 8\n",
            "The number 1 recommended song is Alejandro BY Lady GaGa\n",
            "The number 2 recommended song is Dog Days Are Over (Radio Edit) BY Florence + The Machine\n",
            "The number 3 recommended song is Just Dance BY Lady GaGa / Colby O'Donis\n",
            "The number 4 recommended song is Billionaire [feat. Bruno Mars]  (Explicit Album Version) BY Travie McCoy\n",
            "The number 5 recommended song is Sample Track 2 BY Simon Harris\n",
            "The number 6 recommended song is OMG BY Usher featuring will.i.am\n",
            "The number 7 recommended song is Greece 2000 BY Three Drives\n",
            "The number 8 recommended song is Clocks BY Coldplay\n",
            "The number 9 recommended song is I Gotta Feeling BY Black Eyed Peas\n",
            "The number 10 recommended song is Livin' On A Prayer BY Bon Jovi\n",
            "----------------------------------------------------------------------\n",
            "Recommendation for user id 9\n",
            "The number 1 recommended song is The Cove BY Jack Johnson\n",
            "The number 2 recommended song is The Cove BY Jack Johnson\n",
            "The number 3 recommended song is The Cove BY Jack Johnson\n",
            "The number 4 recommended song is The Cove BY Jack Johnson\n",
            "The number 5 recommended song is The Cove BY Jack Johnson\n",
            "The number 6 recommended song is The Cove BY Jack Johnson\n",
            "The number 7 recommended song is The Cove BY Jack Johnson\n",
            "The number 8 recommended song is The Cove BY Jack Johnson\n",
            "The number 9 recommended song is The Cove BY Jack Johnson\n",
            "The number 10 recommended song is The Cove BY Jack Johnson\n",
            "----------------------------------------------------------------------\n",
            "Recommendation for user id 10\n",
            "The number 1 recommended song is The Cove BY Jack Johnson\n",
            "The number 2 recommended song is The Cove BY Jack Johnson\n",
            "The number 3 recommended song is The Cove BY Jack Johnson\n",
            "The number 4 recommended song is The Cove BY Jack Johnson\n",
            "The number 5 recommended song is The Cove BY Jack Johnson\n",
            "The number 6 recommended song is The Cove BY Jack Johnson\n",
            "The number 7 recommended song is The Cove BY Jack Johnson\n",
            "The number 8 recommended song is The Cove BY Jack Johnson\n",
            "The number 9 recommended song is The Cove BY Jack Johnson\n",
            "The number 10 recommended song is The Cove BY Jack Johnson\n",
            "----------------------------------------------------------------------\n",
            "Recommendation for user id 4\n",
            "The number 1 recommended song is 911 BY Wyclef Jean / Mary J. Blige\n",
            "The number 2 recommended song is If I Ain't Got You BY Alicia Keys\n",
            "The number 3 recommended song is Sample Track 2 BY Simon Harris\n",
            "The number 4 recommended song is Kennedy Rag BY Suzy Thompson\n",
            "The number 5 recommended song is Clocks BY Coldplay\n",
            "The number 6 recommended song is Yellow BY Coldplay\n",
            "The number 7 recommended song is Hey_ Soul Sister BY Train\n",
            "The number 8 recommended song is The Scientist BY Coldplay\n",
            "The number 9 recommended song is Eco BY Jorge Drexler\n",
            "The number 10 recommended song is Kryptonite BY 3 Doors Down\n",
            "----------------------------------------------------------------------\n",
            "Recommendation for user id 5\n",
            "The number 1 recommended song is Eenie Meenie BY Sean Kingston and Justin Bieber\n",
            "The number 2 recommended song is Sample Track 2 BY Simon Harris\n",
            "The number 3 recommended song is U Smile BY Justin Bieber\n",
            "The number 4 recommended song is Love Me BY Justin Bieber\n",
            "The number 5 recommended song is One Time BY Justin Bieber\n",
            "The number 6 recommended song is That Should Be Me BY Justin Bieber\n",
            "The number 7 recommended song is Teach Me How To Dougie BY California Swag District\n",
            "The number 8 recommended song is The Gift BY Angels and Airwaves\n",
            "The number 9 recommended song is Kennedy Rag BY Suzy Thompson\n",
            "The number 10 recommended song is One Less Lonely Girl BY Justin Bieber\n",
            "----------------------------------------------------------------------\n",
            "Recommendation for user id 6\n",
            "The number 1 recommended song is Pursuit Of Happiness (nightmare) BY Kid Cudi / MGMT / Ratatat\n",
            "The number 2 recommended song is The Scientist BY Coldplay\n",
            "The number 3 recommended song is Lucky (Album Version) BY Jason Mraz & Colbie Caillat\n",
            "The number 4 recommended song is Vanilla Twilight BY Owl City\n",
            "The number 5 recommended song is Bleed It Out [Live At Milton Keynes] BY Linkin Park\n",
            "The number 6 recommended song is The Only Exception (Album Version) BY Paramore\n",
            "The number 7 recommended song is All The Right Moves BY OneRepublic\n",
            "The number 8 recommended song is Forever BY Drake / Kanye West / Lil Wayne / Eminem\n",
            "The number 9 recommended song is Love Story BY Taylor Swift\n",
            "The number 10 recommended song is Heartbreak Warfare BY John Mayer\n",
            "----------------------------------------------------------------------\n",
            "Recommendation for user id 7\n",
            "The number 1 recommended song is Lucky (Album Version) BY Jason Mraz & Colbie Caillat\n",
            "The number 2 recommended song is Fix You BY Coldplay\n",
            "The number 3 recommended song is Use Somebody BY Kings Of Leon\n",
            "The number 4 recommended song is Shiver BY Coldplay\n",
            "The number 5 recommended song is Don't Panic BY Coldplay\n",
            "The number 6 recommended song is Heartbreak Warfare BY John Mayer\n",
            "The number 7 recommended song is Sparks BY Coldplay\n",
            "The number 8 recommended song is Pursuit Of Happiness (nightmare) BY Kid Cudi / MGMT / Ratatat\n",
            "The number 9 recommended song is Uprising BY Muse\n",
            "The number 10 recommended song is Bitter Sweet Symphony BY The Verve\n",
            "----------------------------------------------------------------------\n",
            "Recommendation for user id 8\n",
            "The number 1 recommended song is Alejandro BY Lady GaGa\n",
            "The number 2 recommended song is Dog Days Are Over (Radio Edit) BY Florence + The Machine\n",
            "The number 3 recommended song is Just Dance BY Lady GaGa / Colby O'Donis\n",
            "The number 4 recommended song is Billionaire [feat. Bruno Mars]  (Explicit Album Version) BY Travie McCoy\n",
            "The number 5 recommended song is Sample Track 2 BY Simon Harris\n",
            "The number 6 recommended song is OMG BY Usher featuring will.i.am\n",
            "The number 7 recommended song is Greece 2000 BY Three Drives\n",
            "The number 8 recommended song is Clocks BY Coldplay\n",
            "The number 9 recommended song is I Gotta Feeling BY Black Eyed Peas\n",
            "The number 10 recommended song is Livin' On A Prayer BY Bon Jovi\n",
            "----------------------------------------------------------------------\n",
            "Recommendation for user id 873\n",
            "The number 1 recommended song is Dead Souls BY Nine Inch Nails\n",
            "The number 2 recommended song is Canada BY Five Iron Frenzy\n",
            "The number 3 recommended song is Behind The Sea [Live In Chicago] BY Panic At The Disco\n",
            "The number 4 recommended song is Sample Track 2 BY Simon Harris\n",
            "The number 5 recommended song is Creep (Explicit) BY Radiohead\n",
            "The number 6 recommended song is Home BY Edward Sharpe & The Magnetic Zeros\n",
            "The number 7 recommended song is Kryptonite BY 3 Doors Down\n",
            "The number 8 recommended song is Without Me BY Eminem\n",
            "The number 9 recommended song is Paradise City BY Guns N' Roses\n",
            "The number 10 recommended song is Livin' On A Prayer BY Bon Jovi\n",
            "----------------------------------------------------------------------\n",
            "Recommendation for user id 23\n",
            "The number 1 recommended song is Pursuit Of Happiness (nightmare) BY Kid Cudi / MGMT / Ratatat\n",
            "The number 2 recommended song is Day 'N' Nite BY Kid Cudi Vs Crookers\n",
            "The number 3 recommended song is I Gotta Feeling BY Black Eyed Peas\n",
            "The number 4 recommended song is Imma Be BY Black Eyed Peas\n",
            "The number 5 recommended song is Teach Me How To Dougie BY California Swag District\n",
            "The number 6 recommended song is Sexy Bitch BY DJ Dizzy\n",
            "The number 7 recommended song is Use Somebody BY Kings Of Leon\n",
            "The number 8 recommended song is Yeah! BY Usher Featuring Lil' Jon & Ludacris\n",
            "The number 9 recommended song is Nothin' On You [feat. Bruno Mars] (Album Version) BY B.o.B\n",
            "The number 10 recommended song is Bulletproof BY La Roux\n"
          ],
          "name": "stdout"
        }
      ]
    },
    {
      "cell_type": "code",
      "metadata": {
        "colab": {
          "base_uri": "https://localhost:8080/"
        },
        "id": "XfqUGh_GdcpK",
        "outputId": "7657367c-eba7-4cfb-c49e-83e9b7b2a995"
      },
      "source": [
        "show_recomendations([8765])"
      ],
      "execution_count": null,
      "outputs": [
        {
          "output_type": "stream",
          "text": [
            "----------------------------------------------------------------------\n",
            "Recommendation for user id 8765\n",
            "The number 1 recommended song is The Cove BY Jack Johnson\n",
            "The number 2 recommended song is The Cove BY Jack Johnson\n",
            "The number 3 recommended song is The Cove BY Jack Johnson\n",
            "The number 4 recommended song is The Cove BY Jack Johnson\n",
            "The number 5 recommended song is The Cove BY Jack Johnson\n",
            "The number 6 recommended song is The Cove BY Jack Johnson\n",
            "The number 7 recommended song is The Cove BY Jack Johnson\n",
            "The number 8 recommended song is The Cove BY Jack Johnson\n",
            "The number 9 recommended song is The Cove BY Jack Johnson\n",
            "The number 10 recommended song is The Cove BY Jack Johnson\n"
          ],
          "name": "stdout"
        }
      ]
    },
    {
      "cell_type": "markdown",
      "metadata": {
        "id": "NKv-SvqKP1sb"
      },
      "source": [
        "Generating recommendations for a single user:"
      ]
    },
    {
      "cell_type": "code",
      "metadata": {
        "colab": {
          "base_uri": "https://localhost:8080/"
        },
        "id": "B8J58kSiGg6G",
        "outputId": "68b65dba-b368-41b4-ef7c-2f04e3189267"
      },
      "source": [
        "uTest = [0]\n",
        "#Get estimated rating for test user\n",
        "print(\"Predictied ratings:\")\n",
        "uTest_recommended_items = compute_estimated_matrix(urm, U, S, Vt, uTest, K, True)\n",
        "show_recomendations(uTest)"
      ],
      "execution_count": null,
      "outputs": [
        {
          "output_type": "stream",
          "text": [
            "Predictied ratings:\n",
            "----------------------------------------------------------------------\n",
            "Recommendation for user id 0\n",
            "The number 1 recommended song is Basic Space BY The xx\n",
            "The number 2 recommended song is Infinity BY The xx\n",
            "The number 3 recommended song is I Wanna Be Sedated (Remastered Album Version ) BY Ramones\n",
            "The number 4 recommended song is Fantasy BY The xx\n",
            "The number 5 recommended song is The Big Gundown BY The Prodigy\n",
            "The number 6 recommended song is CIEÑ BY Milczenie Owiec\n",
            "The number 7 recommended song is Home BY Edward Sharpe & The Magnetic Zeros\n",
            "The number 8 recommended song is Cosmic Love BY Florence + The Machine\n",
            "The number 9 recommended song is Speak BY Godsmack\n",
            "The number 10 recommended song is You've Got The Love BY Florence + The Machine\n"
          ],
          "name": "stdout"
        }
      ]
    },
    {
      "cell_type": "code",
      "metadata": {
        "id": "SIEfyqgfeQtQ"
      },
      "source": [
        ""
      ],
      "execution_count": null,
      "outputs": []
    }
  ]
}